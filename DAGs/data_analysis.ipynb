{
 "cells": [
  {
   "cell_type": "code",
   "execution_count": 0,
   "metadata": {
    "application/vnd.databricks.v1+cell": {
     "cellMetadata": {
      "byteLimit": 2048000,
      "rowLimit": 10000
     },
     "inputWidgets": {},
     "nuid": "b67f8e33-88a3-45e7-a947-a3ef261af206",
     "showTitle": false,
     "title": ""
    }
   },
   "outputs": [
    {
     "output_type": "display_data",
     "data": {
      "text/html": [
       "<style scoped>\n",
       "  .ansiout {\n",
       "    display: block;\n",
       "    unicode-bidi: embed;\n",
       "    white-space: pre-wrap;\n",
       "    word-wrap: break-word;\n",
       "    word-break: break-all;\n",
       "    font-family: \"Menlo\", \"Monaco\", \"Consolas\", \"Ubuntu Mono\", \"Source Code Pro\", monospace;\n",
       "    font-size: 13px;\n",
       "    color: #555;\n",
       "    margin-left: 4px;\n",
       "    line-height: 19px;\n",
       "  }\n",
       "</style>\n",
       "<div class=\"ansiout\"></div>"
      ]
     },
     "metadata": {
      "application/vnd.databricks.v1+output": {
       "addedWidgets": {},
       "arguments": {},
       "data": "<div class=\"ansiout\"></div>",
       "datasetInfos": [],
       "metadata": {},
       "removedWidgets": [],
       "type": "html"
      }
     },
     "output_type": "display_data"
    }
   ],
   "source": [
    "df1 = spark.read.format('parquet').load('/mnt/data/pinterest_data_new/batch_datapin1/')\n",
    "df2 = spark.read.format('parquet').load('/mnt/data/pinterest_data_new/batch_datageo1/')\n",
    "df3 = spark.read.format('parquet').load('/mnt/data/pinterest_data_new/batch_datauser1/')"
   ]
  },
  {
   "cell_type": "code",
   "execution_count": 0,
   "metadata": {
    "application/vnd.databricks.v1+cell": {
     "cellMetadata": {
      "byteLimit": 2048000,
      "implicitDf": true,
      "rowLimit": 10000
     },
     "inputWidgets": {},
     "nuid": "5619bb70-292a-441f-8dde-16de7af09a11",
     "showTitle": false,
     "title": ""
    }
   },
   "outputs": [
    {
     "output_type": "display_data",
     "data": {
      "text/html": [
       "<style scoped>\n",
       "  .ansiout {\n",
       "    display: block;\n",
       "    unicode-bidi: embed;\n",
       "    white-space: pre-wrap;\n",
       "    word-wrap: break-word;\n",
       "    word-break: break-all;\n",
       "    font-family: \"Menlo\", \"Monaco\", \"Consolas\", \"Ubuntu Mono\", \"Source Code Pro\", monospace;\n",
       "    font-size: 13px;\n",
       "    color: #555;\n",
       "    margin-left: 4px;\n",
       "    line-height: 19px;\n",
       "  }\n",
       "</style>\n",
       "<div class=\"ansiout\"></div>"
      ]
     },
     "metadata": {
      "application/vnd.databricks.v1+output": {
       "addedWidgets": {},
       "arguments": {},
       "data": "<div class=\"ansiout\"></div>",
       "datasetInfos": [],
       "metadata": {},
       "removedWidgets": [],
       "type": "html"
      }
     },
     "output_type": "display_data"
    }
   ],
   "source": [
    "# Create a Temporary View on the table\n",
    "df1.createOrReplaceTempView(\"df_pin_data\")\n",
    "df2.createOrReplaceTempView(\"df_geo_data\")\n",
    "df3.createOrReplaceTempView(\"df_user_data\")\n"
   ]
  },
  {
   "cell_type": "code",
   "execution_count": 0,
   "metadata": {
    "application/vnd.databricks.v1+cell": {
     "cellMetadata": {
      "byteLimit": 2048000,
      "implicitDf": true,
      "rowLimit": 10000
     },
     "inputWidgets": {},
     "nuid": "489701ec-ee49-4079-8dff-873cf0bff0b9",
     "showTitle": false,
     "title": ""
    }
   },
   "outputs": [
    {
     "output_type": "display_data",
     "data": {
      "text/html": [
       "<style scoped>\n",
       "  .table-result-container {\n",
       "    max-height: 300px;\n",
       "    overflow: auto;\n",
       "  }\n",
       "  table, th, td {\n",
       "    border: 1px solid black;\n",
       "    border-collapse: collapse;\n",
       "  }\n",
       "  th, td {\n",
       "    padding: 5px;\n",
       "  }\n",
       "  th {\n",
       "    text-align: left;\n",
       "  }\n",
       "</style><div class='table-result-container'><table class='table-result'><thead style='background-color: white'><tr><th>ind</th><th>user_name</th><th>age</th><th>date_joined</th></tr></thead><tbody><tr><td>2015</td><td>Christopher Bradshaw</td><td>27</td><td>2016-03-08</td></tr><tr><td>2015</td><td>Christopher Bradshaw</td><td>27</td><td>2016-03-08</td></tr><tr><td>6398</td><td>Christina Davenport</td><td>39</td><td>2016-06-29</td></tr><tr><td>3599</td><td>Alexandria Alvarado</td><td>20</td><td>2015-10-23</td></tr><tr><td>5076</td><td>Christopher Butler</td><td>20</td><td>2015-12-01</td></tr><tr><td>7790</td><td>Michelle Gutierrez</td><td>39</td><td>2017-07-19</td></tr><tr><td>10509</td><td>Brittany Thompson</td><td>49</td><td>2016-04-22</td></tr><tr><td>5076</td><td>Christopher Butler</td><td>20</td><td>2015-12-01</td></tr><tr><td>7790</td><td>Michelle Gutierrez</td><td>39</td><td>2017-07-19</td></tr><tr><td>10509</td><td>Brittany Thompson</td><td>49</td><td>2016-04-22</td></tr><tr><td>10119</td><td>Chelsea Gonzalez</td><td>43</td><td>2016-07-21</td></tr><tr><td>8731</td><td>Andrea Alexander</td><td>21</td><td>2015-11-10</td></tr><tr><td>8887</td><td>Austin Rodriguez</td><td>24</td><td>2016-03-31</td></tr><tr><td>1545</td><td>Jonathan Avila</td><td>46</td><td>2015-11-27</td></tr><tr><td>603</td><td>Brandon Jackson</td><td>44</td><td>2016-10-29</td></tr><tr><td>1313</td><td>Brittany Jones</td><td>32</td><td>2016-04-02</td></tr><tr><td>10794</td><td>Thomas Turner</td><td>34</td><td>2016-12-22</td></tr><tr><td>2959</td><td>David Griffith</td><td>20</td><td>2016-01-07</td></tr><tr><td>9875</td><td>Brendan Joseph</td><td>26</td><td>2015-12-20</td></tr><tr><td>2074</td><td>Annette Forbes</td><td>21</td><td>2016-01-03</td></tr><tr><td>1014</td><td>Gregory Ramsey</td><td>56</td><td>2016-10-15</td></tr><tr><td>4137</td><td>Michael Decker</td><td>59</td><td>2017-06-29</td></tr><tr><td>2411</td><td>Aaron Bartlett</td><td>21</td><td>2015-11-24</td></tr><tr><td>4508</td><td>Michael Carter</td><td>58</td><td>2016-06-03</td></tr><tr><td>771</td><td>Brittany Butler</td><td>32</td><td>2016-03-10</td></tr><tr><td>1545</td><td>Jonathan Avila</td><td>46</td><td>2015-11-27</td></tr><tr><td>8731</td><td>Andrea Alexander</td><td>21</td><td>2015-11-10</td></tr><tr><td>8887</td><td>Austin Rodriguez</td><td>24</td><td>2016-03-31</td></tr><tr><td>7768</td><td>Christine Cortez</td><td>23</td><td>2015-12-01</td></tr><tr><td>4315</td><td>Michelle Prince</td><td>36</td><td>2015-12-20</td></tr><tr><td>10625</td><td>Christian Lang</td><td>32</td><td>2017-10-10</td></tr><tr><td>9672</td><td>Jennifer Hudson</td><td>22</td><td>2016-02-11</td></tr><tr><td>8930</td><td>Andrew Anderson</td><td>23</td><td>2015-11-28</td></tr><tr><td>4315</td><td>Michelle Prince</td><td>36</td><td>2015-12-20</td></tr><tr><td>10625</td><td>Christian Lang</td><td>32</td><td>2017-10-10</td></tr><tr><td>9672</td><td>Jennifer Hudson</td><td>22</td><td>2016-02-11</td></tr><tr><td>8930</td><td>Andrew Anderson</td><td>23</td><td>2015-11-28</td></tr><tr><td>6566</td><td>Alexander Perez</td><td>31</td><td>2017-08-04</td></tr><tr><td>3729</td><td>Richard Edwards</td><td>52</td><td>2016-02-07</td></tr><tr><td>10552</td><td>Michael Hunter</td><td>40</td><td>2017-05-16</td></tr><tr><td>9074</td><td>Aaron Alexander</td><td>21</td><td>2015-10-25</td></tr><tr><td>3201</td><td>Elizabeth Terry</td><td>28</td><td>2016-01-29</td></tr><tr><td>1313</td><td>Brittany Jones</td><td>32</td><td>2016-04-02</td></tr><tr><td>10794</td><td>Thomas Turner</td><td>34</td><td>2016-12-22</td></tr><tr><td>2959</td><td>David Griffith</td><td>20</td><td>2016-01-07</td></tr><tr><td>9875</td><td>Brendan Joseph</td><td>26</td><td>2015-12-20</td></tr><tr><td>2074</td><td>Annette Forbes</td><td>21</td><td>2016-01-03</td></tr><tr><td>1014</td><td>Gregory Ramsey</td><td>56</td><td>2016-10-15</td></tr><tr><td>4137</td><td>Michael Decker</td><td>59</td><td>2017-06-29</td></tr><tr><td>2411</td><td>Aaron Bartlett</td><td>21</td><td>2015-11-24</td></tr><tr><td>4508</td><td>Michael Carter</td><td>58</td><td>2016-06-03</td></tr><tr><td>771</td><td>Brittany Butler</td><td>32</td><td>2016-03-10</td></tr><tr><td>7294</td><td>Dawn Anderson</td><td>20</td><td>2016-12-31</td></tr><tr><td>808</td><td>Aaron Bartlett</td><td>21</td><td>2015-11-24</td></tr><tr><td>8304</td><td>Charles Berry</td><td>25</td><td>2015-12-28</td></tr><tr><td>6063</td><td>Corey Andrews</td><td>23</td><td>2015-11-25</td></tr><tr><td>3454</td><td>Robert Murphy</td><td>48</td><td>2017-09-26</td></tr><tr><td>7554</td><td>Cheryl Huerta</td><td>20</td><td>2017-04-11</td></tr><tr><td>6145</td><td>Emily Hawkins</td><td>30</td><td>2015-12-25</td></tr><tr><td>9979</td><td>Kaylee Miller</td><td>31</td><td>2016-11-09</td></tr><tr><td>4913</td><td>Angela Brooks</td><td>24</td><td>2015-11-20</td></tr><tr><td>9759</td><td>Daniel Brooks</td><td>25</td><td>2015-11-19</td></tr><tr><td>7294</td><td>Dawn Anderson</td><td>20</td><td>2016-12-31</td></tr><tr><td>808</td><td>Aaron Bartlett</td><td>21</td><td>2015-11-24</td></tr><tr><td>9936</td><td>Anthony Cantu</td><td>28</td><td>2016-11-15</td></tr><tr><td>10138</td><td>Carol Silva</td><td>22</td><td>2015-12-31</td></tr><tr><td>7922</td><td>Denise Adams</td><td>21</td><td>2015-11-12</td></tr><tr><td>9590</td><td>Amanda Allen</td><td>22</td><td>2015-10-24</td></tr><tr><td>2698</td><td>Kayla Burton</td><td>44</td><td>2017-06-21</td></tr><tr><td>831</td><td>Aimee Collins</td><td>28</td><td>2016-06-16</td></tr><tr><td>8606</td><td>Denise Adams</td><td>21</td><td>2015-11-12</td></tr><tr><td>4076</td><td>Larry Pineda</td><td>20</td><td>2015-10-23</td></tr><tr><td>2863</td><td>Dylan Holmes</td><td>32</td><td>2016-10-23</td></tr><tr><td>5730</td><td>Rachel Davis</td><td>36</td><td>2015-12-08</td></tr><tr><td>2923</td><td>Brian Nelson</td><td>26</td><td>2015-11-11</td></tr><tr><td>2418</td><td>Amanda Adams</td><td>20</td><td>2015-10-21</td></tr><tr><td>3156</td><td>Andrew Baker</td><td>22</td><td>2015-12-21</td></tr><tr><td>428</td><td>Claudia Adams</td><td>20</td><td>2015-11-28</td></tr><tr><td>7343</td><td>Anne Clayton</td><td>24</td><td>2016-01-11</td></tr><tr><td>10138</td><td>Carol Silva</td><td>22</td><td>2015-12-31</td></tr><tr><td>7922</td><td>Denise Adams</td><td>21</td><td>2015-11-12</td></tr><tr><td>9590</td><td>Amanda Allen</td><td>22</td><td>2015-10-24</td></tr><tr><td>2698</td><td>Kayla Burton</td><td>44</td><td>2017-06-21</td></tr><tr><td>831</td><td>Aimee Collins</td><td>28</td><td>2016-06-16</td></tr><tr><td>8606</td><td>Denise Adams</td><td>21</td><td>2015-11-12</td></tr><tr><td>4076</td><td>Larry Pineda</td><td>20</td><td>2015-10-23</td></tr><tr><td>1422</td><td>Aaron Abbott</td><td>20</td><td>2015-10-31</td></tr><tr><td>1371</td><td>Amanda Brown</td><td>20</td><td>2015-11-12</td></tr><tr><td>2604</td><td>Ashley Evans</td><td>30</td><td>2016-02-21</td></tr><tr><td>1198</td><td>Ariana Gross</td><td>59</td><td>2016-12-17</td></tr><tr><td>10370</td><td>Derrick Kim</td><td>30</td><td>2016-12-21</td></tr><tr><td>6844</td><td>Peter Roberts</td><td>30</td><td>2016-07-03</td></tr><tr><td>3419</td><td>Aaron Jenkins</td><td>47</td><td>2017-04-26</td></tr><tr><td>4988</td><td>Rhonda Durham</td><td>25</td><td>2017-07-20</td></tr><tr><td>552</td><td>Regina Morales</td><td>20</td><td>2017-01-17</td></tr><tr><td>8312</td><td>Daniel Brooks</td><td>25</td><td>2015-11-19</td></tr><tr><td>6261</td><td>Nicholas Hart</td><td>38</td><td>2015-10-26</td></tr><tr><td>2863</td><td>Dylan Holmes</td><td>32</td><td>2016-10-23</td></tr><tr><td>5730</td><td>Rachel Davis</td><td>36</td><td>2015-12-08</td></tr><tr><td>2923</td><td>Brian Nelson</td><td>26</td><td>2015-11-11</td></tr><tr><td>2418</td><td>Amanda Adams</td><td>20</td><td>2015-10-21</td></tr><tr><td>3156</td><td>Andrew Baker</td><td>22</td><td>2015-12-21</td></tr><tr><td>428</td><td>Claudia Adams</td><td>20</td><td>2015-11-28</td></tr><tr><td>7343</td><td>Anne Clayton</td><td>24</td><td>2016-01-11</td></tr><tr><td>603</td><td>Brandon Jackson</td><td>44</td><td>2016-10-29</td></tr><tr><td>5630</td><td>Carlos Estrada</td><td>22</td><td>2016-02-09</td></tr><tr><td>1268</td><td>Donna Campbell</td><td>32</td><td>2016-06-08</td></tr><tr><td>1555</td><td>Alexis Bennett</td><td>54</td><td>2016-05-15</td></tr><tr><td>3800</td><td>Adam Armstrong</td><td>20</td><td>2015-12-17</td></tr><tr><td>8304</td><td>Charles Berry</td><td>25</td><td>2015-12-28</td></tr><tr><td>6063</td><td>Corey Andrews</td><td>23</td><td>2015-11-25</td></tr><tr><td>3454</td><td>Robert Murphy</td><td>48</td><td>2017-09-26</td></tr><tr><td>7554</td><td>Cheryl Huerta</td><td>20</td><td>2017-04-11</td></tr><tr><td>6145</td><td>Emily Hawkins</td><td>30</td><td>2015-12-25</td></tr><tr><td>9979</td><td>Kaylee Miller</td><td>31</td><td>2016-11-09</td></tr><tr><td>4913</td><td>Angela Brooks</td><td>24</td><td>2015-11-20</td></tr><tr><td>9759</td><td>Daniel Brooks</td><td>25</td><td>2015-11-19</td></tr><tr><td>7167</td><td>Dawn Bradley</td><td>20</td><td>2016-08-26</td></tr><tr><td>7528</td><td>Abigail Ali</td><td>20</td><td>2015-10-24</td></tr><tr><td>5069</td><td>Amanda Ball</td><td>25</td><td>2016-01-13</td></tr><tr><td>3089</td><td>Abigail Ali</td><td>20</td><td>2015-10-24</td></tr><tr><td>8653</td><td>Tammy Davis</td><td>24</td><td>2016-03-09</td></tr><tr><td>7166</td><td>Alvin Adams</td><td>20</td><td>2016-01-01</td></tr><tr><td>9546</td><td>Alex Barnes</td><td>20</td><td>2016-02-27</td></tr><tr><td>5468</td><td>Lisa Gamble</td><td>20</td><td>2016-07-23</td></tr><tr><td>205</td><td>Brett Bryant</td><td>20</td><td>2015-10-23</td></tr><tr><td>719</td><td>Alicia Avila</td><td>20</td><td>2016-01-26</td></tr><tr><td>1094</td><td>Ann Elliott</td><td>20</td><td>2016-07-02</td></tr><tr><td>7528</td><td>Abigail Ali</td><td>20</td><td>2015-10-24</td></tr><tr><td>5069</td><td>Amanda Ball</td><td>25</td><td>2016-01-13</td></tr><tr><td>2482</td><td>David Moss</td><td>22</td><td>2016-03-01</td></tr><tr><td>5494</td><td>Anne Allen</td><td>27</td><td>2015-12-16</td></tr><tr><td>10663</td><td>Julie Cox</td><td>23</td><td>2016-06-23</td></tr><tr><td>1704</td><td>Barry Lynn</td><td>20</td><td>2015-10-28</td></tr><tr><td>2482</td><td>David Moss</td><td>22</td><td>2016-03-01</td></tr><tr><td>159</td><td>Alison Bell</td><td>21</td><td>2016-01-07</td></tr><tr><td>5309</td><td>Daniel Roy</td><td>31</td><td>2016-03-07</td></tr><tr><td>2293</td><td>Alex Bean</td><td>24</td><td>2016-01-11</td></tr><tr><td>2293</td><td>Alex Bean</td><td>24</td><td>2016-01-11</td></tr><tr><td>46</td><td>Erik Kelley</td><td>30</td><td>2016-01-06</td></tr><tr><td>2858</td><td>Anne Bond</td><td>21</td><td>2015-12-27</td></tr><tr><td>8578</td><td>Joe Pham</td><td>48</td><td>2017-06-01</td></tr><tr><td>427</td><td>Jon Burke</td><td>25</td><td>2015-11-26</td></tr><tr><td>3089</td><td>Abigail Ali</td><td>20</td><td>2015-10-24</td></tr><tr><td>8653</td><td>Tammy Davis</td><td>24</td><td>2016-03-09</td></tr><tr><td>7166</td><td>Alvin Adams</td><td>20</td><td>2016-01-01</td></tr><tr><td>9546</td><td>Alex Barnes</td><td>20</td><td>2016-02-27</td></tr><tr><td>5468</td><td>Lisa Gamble</td><td>20</td><td>2016-07-23</td></tr><tr><td>205</td><td>Brett Bryant</td><td>20</td><td>2015-10-23</td></tr><tr><td>719</td><td>Alicia Avila</td><td>20</td><td>2016-01-26</td></tr><tr><td>1094</td><td>Ann Elliott</td><td>20</td><td>2016-07-02</td></tr><tr><td>223</td><td>Melanie Hill</td><td>51</td><td>2016-10-09</td></tr><tr><td>2637</td><td>Shawn Jones</td><td>32</td><td>2016-08-23</td></tr><tr><td>5494</td><td>Anne Allen</td><td>27</td><td>2015-12-16</td></tr><tr><td>10663</td><td>Julie Cox</td><td>23</td><td>2016-06-23</td></tr><tr><td>1704</td><td>Barry Lynn</td><td>20</td><td>2015-10-28</td></tr></tbody></table></div>"
      ]
     },
     "metadata": {
      "application/vnd.databricks.v1+output": {
       "addedWidgets": {},
       "aggData": [],
       "aggError": "",
       "aggOverflow": false,
       "aggSchema": [],
       "aggSeriesLimitReached": false,
       "aggType": "",
       "arguments": {},
       "columnCustomDisplayInfos": {},
       "data": [
        [
         2015,
         "Christopher Bradshaw",
         27,
         "2016-03-08"
        ],
        [
         2015,
         "Christopher Bradshaw",
         27,
         "2016-03-08"
        ],
        [
         6398,
         "Christina Davenport",
         39,
         "2016-06-29"
        ],
        [
         3599,
         "Alexandria Alvarado",
         20,
         "2015-10-23"
        ],
        [
         5076,
         "Christopher Butler",
         20,
         "2015-12-01"
        ],
        [
         7790,
         "Michelle Gutierrez",
         39,
         "2017-07-19"
        ],
        [
         10509,
         "Brittany Thompson",
         49,
         "2016-04-22"
        ],
        [
         5076,
         "Christopher Butler",
         20,
         "2015-12-01"
        ],
        [
         7790,
         "Michelle Gutierrez",
         39,
         "2017-07-19"
        ],
        [
         10509,
         "Brittany Thompson",
         49,
         "2016-04-22"
        ],
        [
         10119,
         "Chelsea Gonzalez",
         43,
         "2016-07-21"
        ],
        [
         8731,
         "Andrea Alexander",
         21,
         "2015-11-10"
        ],
        [
         8887,
         "Austin Rodriguez",
         24,
         "2016-03-31"
        ],
        [
         1545,
         "Jonathan Avila",
         46,
         "2015-11-27"
        ],
        [
         603,
         "Brandon Jackson",
         44,
         "2016-10-29"
        ],
        [
         1313,
         "Brittany Jones",
         32,
         "2016-04-02"
        ],
        [
         10794,
         "Thomas Turner",
         34,
         "2016-12-22"
        ],
        [
         2959,
         "David Griffith",
         20,
         "2016-01-07"
        ],
        [
         9875,
         "Brendan Joseph",
         26,
         "2015-12-20"
        ],
        [
         2074,
         "Annette Forbes",
         21,
         "2016-01-03"
        ],
        [
         1014,
         "Gregory Ramsey",
         56,
         "2016-10-15"
        ],
        [
         4137,
         "Michael Decker",
         59,
         "2017-06-29"
        ],
        [
         2411,
         "Aaron Bartlett",
         21,
         "2015-11-24"
        ],
        [
         4508,
         "Michael Carter",
         58,
         "2016-06-03"
        ],
        [
         771,
         "Brittany Butler",
         32,
         "2016-03-10"
        ],
        [
         1545,
         "Jonathan Avila",
         46,
         "2015-11-27"
        ],
        [
         8731,
         "Andrea Alexander",
         21,
         "2015-11-10"
        ],
        [
         8887,
         "Austin Rodriguez",
         24,
         "2016-03-31"
        ],
        [
         7768,
         "Christine Cortez",
         23,
         "2015-12-01"
        ],
        [
         4315,
         "Michelle Prince",
         36,
         "2015-12-20"
        ],
        [
         10625,
         "Christian Lang",
         32,
         "2017-10-10"
        ],
        [
         9672,
         "Jennifer Hudson",
         22,
         "2016-02-11"
        ],
        [
         8930,
         "Andrew Anderson",
         23,
         "2015-11-28"
        ],
        [
         4315,
         "Michelle Prince",
         36,
         "2015-12-20"
        ],
        [
         10625,
         "Christian Lang",
         32,
         "2017-10-10"
        ],
        [
         9672,
         "Jennifer Hudson",
         22,
         "2016-02-11"
        ],
        [
         8930,
         "Andrew Anderson",
         23,
         "2015-11-28"
        ],
        [
         6566,
         "Alexander Perez",
         31,
         "2017-08-04"
        ],
        [
         3729,
         "Richard Edwards",
         52,
         "2016-02-07"
        ],
        [
         10552,
         "Michael Hunter",
         40,
         "2017-05-16"
        ],
        [
         9074,
         "Aaron Alexander",
         21,
         "2015-10-25"
        ],
        [
         3201,
         "Elizabeth Terry",
         28,
         "2016-01-29"
        ],
        [
         1313,
         "Brittany Jones",
         32,
         "2016-04-02"
        ],
        [
         10794,
         "Thomas Turner",
         34,
         "2016-12-22"
        ],
        [
         2959,
         "David Griffith",
         20,
         "2016-01-07"
        ],
        [
         9875,
         "Brendan Joseph",
         26,
         "2015-12-20"
        ],
        [
         2074,
         "Annette Forbes",
         21,
         "2016-01-03"
        ],
        [
         1014,
         "Gregory Ramsey",
         56,
         "2016-10-15"
        ],
        [
         4137,
         "Michael Decker",
         59,
         "2017-06-29"
        ],
        [
         2411,
         "Aaron Bartlett",
         21,
         "2015-11-24"
        ],
        [
         4508,
         "Michael Carter",
         58,
         "2016-06-03"
        ],
        [
         771,
         "Brittany Butler",
         32,
         "2016-03-10"
        ],
        [
         7294,
         "Dawn Anderson",
         20,
         "2016-12-31"
        ],
        [
         808,
         "Aaron Bartlett",
         21,
         "2015-11-24"
        ],
        [
         8304,
         "Charles Berry",
         25,
         "2015-12-28"
        ],
        [
         6063,
         "Corey Andrews",
         23,
         "2015-11-25"
        ],
        [
         3454,
         "Robert Murphy",
         48,
         "2017-09-26"
        ],
        [
         7554,
         "Cheryl Huerta",
         20,
         "2017-04-11"
        ],
        [
         6145,
         "Emily Hawkins",
         30,
         "2015-12-25"
        ],
        [
         9979,
         "Kaylee Miller",
         31,
         "2016-11-09"
        ],
        [
         4913,
         "Angela Brooks",
         24,
         "2015-11-20"
        ],
        [
         9759,
         "Daniel Brooks",
         25,
         "2015-11-19"
        ],
        [
         7294,
         "Dawn Anderson",
         20,
         "2016-12-31"
        ],
        [
         808,
         "Aaron Bartlett",
         21,
         "2015-11-24"
        ],
        [
         9936,
         "Anthony Cantu",
         28,
         "2016-11-15"
        ],
        [
         10138,
         "Carol Silva",
         22,
         "2015-12-31"
        ],
        [
         7922,
         "Denise Adams",
         21,
         "2015-11-12"
        ],
        [
         9590,
         "Amanda Allen",
         22,
         "2015-10-24"
        ],
        [
         2698,
         "Kayla Burton",
         44,
         "2017-06-21"
        ],
        [
         831,
         "Aimee Collins",
         28,
         "2016-06-16"
        ],
        [
         8606,
         "Denise Adams",
         21,
         "2015-11-12"
        ],
        [
         4076,
         "Larry Pineda",
         20,
         "2015-10-23"
        ],
        [
         2863,
         "Dylan Holmes",
         32,
         "2016-10-23"
        ],
        [
         5730,
         "Rachel Davis",
         36,
         "2015-12-08"
        ],
        [
         2923,
         "Brian Nelson",
         26,
         "2015-11-11"
        ],
        [
         2418,
         "Amanda Adams",
         20,
         "2015-10-21"
        ],
        [
         3156,
         "Andrew Baker",
         22,
         "2015-12-21"
        ],
        [
         428,
         "Claudia Adams",
         20,
         "2015-11-28"
        ],
        [
         7343,
         "Anne Clayton",
         24,
         "2016-01-11"
        ],
        [
         10138,
         "Carol Silva",
         22,
         "2015-12-31"
        ],
        [
         7922,
         "Denise Adams",
         21,
         "2015-11-12"
        ],
        [
         9590,
         "Amanda Allen",
         22,
         "2015-10-24"
        ],
        [
         2698,
         "Kayla Burton",
         44,
         "2017-06-21"
        ],
        [
         831,
         "Aimee Collins",
         28,
         "2016-06-16"
        ],
        [
         8606,
         "Denise Adams",
         21,
         "2015-11-12"
        ],
        [
         4076,
         "Larry Pineda",
         20,
         "2015-10-23"
        ],
        [
         1422,
         "Aaron Abbott",
         20,
         "2015-10-31"
        ],
        [
         1371,
         "Amanda Brown",
         20,
         "2015-11-12"
        ],
        [
         2604,
         "Ashley Evans",
         30,
         "2016-02-21"
        ],
        [
         1198,
         "Ariana Gross",
         59,
         "2016-12-17"
        ],
        [
         10370,
         "Derrick Kim",
         30,
         "2016-12-21"
        ],
        [
         6844,
         "Peter Roberts",
         30,
         "2016-07-03"
        ],
        [
         3419,
         "Aaron Jenkins",
         47,
         "2017-04-26"
        ],
        [
         4988,
         "Rhonda Durham",
         25,
         "2017-07-20"
        ],
        [
         552,
         "Regina Morales",
         20,
         "2017-01-17"
        ],
        [
         8312,
         "Daniel Brooks",
         25,
         "2015-11-19"
        ],
        [
         6261,
         "Nicholas Hart",
         38,
         "2015-10-26"
        ],
        [
         2863,
         "Dylan Holmes",
         32,
         "2016-10-23"
        ],
        [
         5730,
         "Rachel Davis",
         36,
         "2015-12-08"
        ],
        [
         2923,
         "Brian Nelson",
         26,
         "2015-11-11"
        ],
        [
         2418,
         "Amanda Adams",
         20,
         "2015-10-21"
        ],
        [
         3156,
         "Andrew Baker",
         22,
         "2015-12-21"
        ],
        [
         428,
         "Claudia Adams",
         20,
         "2015-11-28"
        ],
        [
         7343,
         "Anne Clayton",
         24,
         "2016-01-11"
        ],
        [
         603,
         "Brandon Jackson",
         44,
         "2016-10-29"
        ],
        [
         5630,
         "Carlos Estrada",
         22,
         "2016-02-09"
        ],
        [
         1268,
         "Donna Campbell",
         32,
         "2016-06-08"
        ],
        [
         1555,
         "Alexis Bennett",
         54,
         "2016-05-15"
        ],
        [
         3800,
         "Adam Armstrong",
         20,
         "2015-12-17"
        ],
        [
         8304,
         "Charles Berry",
         25,
         "2015-12-28"
        ],
        [
         6063,
         "Corey Andrews",
         23,
         "2015-11-25"
        ],
        [
         3454,
         "Robert Murphy",
         48,
         "2017-09-26"
        ],
        [
         7554,
         "Cheryl Huerta",
         20,
         "2017-04-11"
        ],
        [
         6145,
         "Emily Hawkins",
         30,
         "2015-12-25"
        ],
        [
         9979,
         "Kaylee Miller",
         31,
         "2016-11-09"
        ],
        [
         4913,
         "Angela Brooks",
         24,
         "2015-11-20"
        ],
        [
         9759,
         "Daniel Brooks",
         25,
         "2015-11-19"
        ],
        [
         7167,
         "Dawn Bradley",
         20,
         "2016-08-26"
        ],
        [
         7528,
         "Abigail Ali",
         20,
         "2015-10-24"
        ],
        [
         5069,
         "Amanda Ball",
         25,
         "2016-01-13"
        ],
        [
         3089,
         "Abigail Ali",
         20,
         "2015-10-24"
        ],
        [
         8653,
         "Tammy Davis",
         24,
         "2016-03-09"
        ],
        [
         7166,
         "Alvin Adams",
         20,
         "2016-01-01"
        ],
        [
         9546,
         "Alex Barnes",
         20,
         "2016-02-27"
        ],
        [
         5468,
         "Lisa Gamble",
         20,
         "2016-07-23"
        ],
        [
         205,
         "Brett Bryant",
         20,
         "2015-10-23"
        ],
        [
         719,
         "Alicia Avila",
         20,
         "2016-01-26"
        ],
        [
         1094,
         "Ann Elliott",
         20,
         "2016-07-02"
        ],
        [
         7528,
         "Abigail Ali",
         20,
         "2015-10-24"
        ],
        [
         5069,
         "Amanda Ball",
         25,
         "2016-01-13"
        ],
        [
         2482,
         "David Moss",
         22,
         "2016-03-01"
        ],
        [
         5494,
         "Anne Allen",
         27,
         "2015-12-16"
        ],
        [
         10663,
         "Julie Cox",
         23,
         "2016-06-23"
        ],
        [
         1704,
         "Barry Lynn",
         20,
         "2015-10-28"
        ],
        [
         2482,
         "David Moss",
         22,
         "2016-03-01"
        ],
        [
         159,
         "Alison Bell",
         21,
         "2016-01-07"
        ],
        [
         5309,
         "Daniel Roy",
         31,
         "2016-03-07"
        ],
        [
         2293,
         "Alex Bean",
         24,
         "2016-01-11"
        ],
        [
         2293,
         "Alex Bean",
         24,
         "2016-01-11"
        ],
        [
         46,
         "Erik Kelley",
         30,
         "2016-01-06"
        ],
        [
         2858,
         "Anne Bond",
         21,
         "2015-12-27"
        ],
        [
         8578,
         "Joe Pham",
         48,
         "2017-06-01"
        ],
        [
         427,
         "Jon Burke",
         25,
         "2015-11-26"
        ],
        [
         3089,
         "Abigail Ali",
         20,
         "2015-10-24"
        ],
        [
         8653,
         "Tammy Davis",
         24,
         "2016-03-09"
        ],
        [
         7166,
         "Alvin Adams",
         20,
         "2016-01-01"
        ],
        [
         9546,
         "Alex Barnes",
         20,
         "2016-02-27"
        ],
        [
         5468,
         "Lisa Gamble",
         20,
         "2016-07-23"
        ],
        [
         205,
         "Brett Bryant",
         20,
         "2015-10-23"
        ],
        [
         719,
         "Alicia Avila",
         20,
         "2016-01-26"
        ],
        [
         1094,
         "Ann Elliott",
         20,
         "2016-07-02"
        ],
        [
         223,
         "Melanie Hill",
         51,
         "2016-10-09"
        ],
        [
         2637,
         "Shawn Jones",
         32,
         "2016-08-23"
        ],
        [
         5494,
         "Anne Allen",
         27,
         "2015-12-16"
        ],
        [
         10663,
         "Julie Cox",
         23,
         "2016-06-23"
        ],
        [
         1704,
         "Barry Lynn",
         20,
         "2015-10-28"
        ]
       ],
       "datasetInfos": [],
       "dbfsResultPath": null,
       "isJsonSchema": true,
       "metadata": {},
       "overflow": false,
       "plotOptions": {
        "customPlotOptions": {},
        "displayType": "table",
        "pivotAggregation": null,
        "pivotColumns": null,
        "xColumns": null,
        "yColumns": null
       },
       "removedWidgets": [],
       "schema": [
        {
         "metadata": "{}",
         "name": "ind",
         "type": "\"integer\""
        },
        {
         "metadata": "{}",
         "name": "user_name",
         "type": "\"string\""
        },
        {
         "metadata": "{}",
         "name": "age",
         "type": "\"integer\""
        },
        {
         "metadata": "{}",
         "name": "date_joined",
         "type": "\"date\""
        }
       ],
       "type": "table"
      }
     },
     "output_type": "display_data"
    }
   ],
   "source": [
    "%sql\n",
    "SELECT * FROM df_user_data LIMIT10"
   ]
  },
  {
   "cell_type": "code",
   "execution_count": 0,
   "metadata": {
    "application/vnd.databricks.v1+cell": {
     "cellMetadata": {
      "byteLimit": 2048000,
      "implicitDf": true,
      "rowLimit": 10000
     },
     "inputWidgets": {},
     "nuid": "66bfdbc4-9197-47ad-bcbe-c6667e9d29a6",
     "showTitle": false,
     "title": ""
    }
   },
   "outputs": [
    {
     "output_type": "display_data",
     "data": {
      "text/html": [
       "<style scoped>\n",
       "  .table-result-container {\n",
       "    max-height: 300px;\n",
       "    overflow: auto;\n",
       "  }\n",
       "  table, th, td {\n",
       "    border: 1px solid black;\n",
       "    border-collapse: collapse;\n",
       "  }\n",
       "  th, td {\n",
       "    padding: 5px;\n",
       "  }\n",
       "  th {\n",
       "    text-align: left;\n",
       "  }\n",
       "</style><div class='table-result-container'><table class='table-result'><thead style='background-color: white'><tr><th>ind</th><th>country</th><th>coordinates</th><th>timestamp</th></tr></thead><tbody><tr><td>2604</td><td>Antigua and Barbuda</td><td>List(-80.8933, -104.972)</td><td>2018-12-01T09:23:35.000+0000</td></tr><tr><td>603</td><td>Netherlands Antilles</td><td>List(14.0083, -141.603)</td><td>2019-06-25T05:13:01.000+0000</td></tr><tr><td>9979</td><td>Dominican Republic</td><td>List(14.9967, -120.682)</td><td>2018-07-18T19:01:46.000+0000</td></tr><tr><td>9979</td><td>Dominican Republic</td><td>List(14.9967, -120.682)</td><td>2018-07-18T19:01:46.000+0000</td></tr><tr><td>10119</td><td>Christmas Island</td><td>List(-74.5431, -162.795)</td><td>2020-10-22T01:59:58.000+0000</td></tr><tr><td>1704</td><td>Christmas Island</td><td>List(-56.8702, -93.6232)</td><td>2018-11-29T04:46:39.000+0000</td></tr><tr><td>6261</td><td>Marshall Islands</td><td>List(-10.3101, -109.763)</td><td>2021-11-11T16:18:45.000+0000</td></tr><tr><td>3201</td><td>Pitcairn Islands</td><td>List(34.0532, -68.4946)</td><td>2019-06-25T08:31:37.000+0000</td></tr><tr><td>7790</td><td>Papua New Guinea</td><td>List(-43.692, 64.9839)</td><td>2018-07-31T08:19:15.000+0000</td></tr><tr><td>9759</td><td>American Samoa</td><td>List(-77.9744, -106.258)</td><td>2017-12-30T13:05:49.000+0000</td></tr></tbody></table></div>"
      ]
     },
     "metadata": {
      "application/vnd.databricks.v1+output": {
       "addedWidgets": {},
       "aggData": [],
       "aggError": "",
       "aggOverflow": false,
       "aggSchema": [],
       "aggSeriesLimitReached": false,
       "aggType": "",
       "arguments": {},
       "columnCustomDisplayInfos": {},
       "data": [
        [
         2604,
         "Antigua and Barbuda",
         [
          -80.8933,
          -104.972
         ],
         "2018-12-01T09:23:35.000+0000"
        ],
        [
         603,
         "Netherlands Antilles",
         [
          14.0083,
          -141.603
         ],
         "2019-06-25T05:13:01.000+0000"
        ],
        [
         9979,
         "Dominican Republic",
         [
          14.9967,
          -120.682
         ],
         "2018-07-18T19:01:46.000+0000"
        ],
        [
         9979,
         "Dominican Republic",
         [
          14.9967,
          -120.682
         ],
         "2018-07-18T19:01:46.000+0000"
        ],
        [
         10119,
         "Christmas Island",
         [
          -74.5431,
          -162.795
         ],
         "2020-10-22T01:59:58.000+0000"
        ],
        [
         1704,
         "Christmas Island",
         [
          -56.8702,
          -93.6232
         ],
         "2018-11-29T04:46:39.000+0000"
        ],
        [
         6261,
         "Marshall Islands",
         [
          -10.3101,
          -109.763
         ],
         "2021-11-11T16:18:45.000+0000"
        ],
        [
         3201,
         "Pitcairn Islands",
         [
          34.0532,
          -68.4946
         ],
         "2019-06-25T08:31:37.000+0000"
        ],
        [
         7790,
         "Papua New Guinea",
         [
          -43.692,
          64.9839
         ],
         "2018-07-31T08:19:15.000+0000"
        ],
        [
         9759,
         "American Samoa",
         [
          -77.9744,
          -106.258
         ],
         "2017-12-30T13:05:49.000+0000"
        ]
       ],
       "datasetInfos": [],
       "dbfsResultPath": null,
       "isJsonSchema": true,
       "metadata": {},
       "overflow": false,
       "plotOptions": {
        "customPlotOptions": {},
        "displayType": "table",
        "pivotAggregation": null,
        "pivotColumns": null,
        "xColumns": null,
        "yColumns": null
       },
       "removedWidgets": [],
       "schema": [
        {
         "metadata": "{}",
         "name": "ind",
         "type": "\"integer\""
        },
        {
         "metadata": "{}",
         "name": "country",
         "type": "\"string\""
        },
        {
         "metadata": "{}",
         "name": "coordinates",
         "type": "{\"type\":\"array\",\"elementType\":\"double\",\"containsNull\":true}"
        },
        {
         "metadata": "{}",
         "name": "timestamp",
         "type": "\"timestamp\""
        }
       ],
       "type": "table"
      }
     },
     "output_type": "display_data"
    }
   ],
   "source": [
    "%sql \n",
    "SELECT * FROM df_geo_data LIMIT 10"
   ]
  },
  {
   "cell_type": "code",
   "execution_count": 0,
   "metadata": {
    "application/vnd.databricks.v1+cell": {
     "cellMetadata": {
      "byteLimit": 2048000,
      "implicitDf": true,
      "rowLimit": 10000
     },
     "inputWidgets": {},
     "nuid": "4276c47f-354e-4703-a928-7b9ee43e710a",
     "showTitle": false,
     "title": ""
    }
   },
   "outputs": [
    {
     "output_type": "display_data",
     "data": {
      "text/html": [
       "<style scoped>\n",
       "  .table-result-container {\n",
       "    max-height: 300px;\n",
       "    overflow: auto;\n",
       "  }\n",
       "  table, th, td {\n",
       "    border: 1px solid black;\n",
       "    border-collapse: collapse;\n",
       "  }\n",
       "  th, td {\n",
       "    padding: 5px;\n",
       "  }\n",
       "  th {\n",
       "    text-align: left;\n",
       "  }\n",
       "</style><div class='table-result-container'><table class='table-result'><thead style='background-color: white'><tr><th>ind</th><th>unique_id</th><th>title</th><th>description</th><th>follower_count</th><th>poster_name</th><th>tag_list</th><th>is_image_or_video</th><th>image_src</th><th>save_location</th><th>category</th></tr></thead><tbody><tr><td>8606</td><td>71757040-bfc8-4631-9cac-22801e61d9e3</td><td>30  Eagle Tattoos Ideas for Women</td><td>summcoco gives you inspiration for the women fashion trends you want. Thinking about a new look or lifestyle? This is your ultimate resource to get the hottest trends. 30+ Eagle… </td><td>306</td><td>Sumcoco   Decor Ideas  Hairstyles  Nails Fashion Advice</td><td>White Bird Tattoos,Rose Tattoos,Flower Tattoos,Tattoo Black,Bird And Flower Tattoo,Tattoo Floral,Mini Tattoos,Flower Art,Girls With Sleeve Tattoos</td><td>image</td><td>https://i.pinimg.com/originals/8d/c6/ed/8dc6ed0b212393187a14c7d07a88060f.png</td><td> /data/tattoos</td><td>tattoos</td></tr><tr><td>6063</td><td>60693727-4927-4bd6-a8c5-096a392d63e6</td><td>41 Gorgeous Fall Decor Ideas For Your Home   Chaylor   Mads</td><td>Beautiful and easy ways to update every room in your home with fall decor. Plus, my favorite finds in fall decor for 2020!</td><td>92</td><td>Kristen   Lifestyle  Mom Tips   Teacher Stuff Blog</td><td>Fall Home Decor,Autumn Home,Fall Decor Outdoor,Front Porch Fall Decor,Home Decor Ideas,Porch Ideas For Fall,Fall Outdoor Decorating,Decorating Ideas For Fall,Fall Front Doors</td><td>image</td><td>https://i.pinimg.com/originals/e5/ae/dc/e5aedc14ce557e3a69f672e0f8c88f6e.png</td><td> /data/home-decor</td><td>home-decor</td></tr><tr><td>6063</td><td>60693727-4927-4bd6-a8c5-096a392d63e6</td><td>41 Gorgeous Fall Decor Ideas For Your Home   Chaylor   Mads</td><td>Beautiful and easy ways to update every room in your home with fall decor. Plus, my favorite finds in fall decor for 2020!</td><td>92</td><td>Kristen   Lifestyle  Mom Tips   Teacher Stuff Blog</td><td>Fall Home Decor,Autumn Home,Fall Decor Outdoor,Front Porch Fall Decor,Home Decor Ideas,Porch Ideas For Fall,Fall Outdoor Decorating,Decorating Ideas For Fall,Fall Front Doors</td><td>image</td><td>https://i.pinimg.com/originals/e5/ae/dc/e5aedc14ce557e3a69f672e0f8c88f6e.png</td><td> /data/home-decor</td><td>home-decor</td></tr><tr><td>5076</td><td>fa3af29c-dc78-4eed-a4c5-52a407ea04c0</td><td>Quiz  Test Your Event IQ    Pointers For Planners</td><td>So you're thinking of getting your event planner certification, but how much do you REALLY know about event planning? Event planners need to be knowledgeable and able to answer… </td><td>5</td><td>QC Career School</td><td>Diy Wedding Food,Best Wedding Makeup,Wedding Events,Wedding Tips,Wedding Stuff,Weddings,Event Planning Business,Business Events,Wedding Makeup Tutorial</td><td>image</td><td>https://i.pinimg.com/originals/6f/19/bc/6f19bce24921bf843540fc04da9eb6bf.jpg</td><td> /data/event-planning</td><td>event-planning</td></tr><tr><td>5076</td><td>fa3af29c-dc78-4eed-a4c5-52a407ea04c0</td><td>Quiz  Test Your Event IQ    Pointers For Planners</td><td>So you're thinking of getting your event planner certification, but how much do you REALLY know about event planning? Event planners need to be knowledgeable and able to answer… </td><td>5</td><td>QC Career School</td><td>Diy Wedding Food,Best Wedding Makeup,Wedding Events,Wedding Tips,Wedding Stuff,Weddings,Event Planning Business,Business Events,Wedding Makeup Tutorial</td><td>image</td><td>https://i.pinimg.com/originals/6f/19/bc/6f19bce24921bf843540fc04da9eb6bf.jpg</td><td> /data/event-planning</td><td>event-planning</td></tr><tr><td>552</td><td>b82602a9-e434-42cf-9481-22f3f41d82ce</td><td>The herbal bed  Katie Scott s psychedelic flora and fauna   in pictures</td><td>Nike trainers sprout plants and French perfumiers inspire by mysterious scientific icons in Katie Scott’s visions that take botanical illustration into the digital age</td><td>908</td><td>The Guardian</td><td>Art And Illustration,Illustration Inspiration,Botanical Illustration,Vintage Illustrations,Botanical Drawings,Botanical Prints,Arte Inspo,Insect Art,Psychedelic</td><td>image</td><td>https://i.pinimg.com/originals/16/8a/fa/168afae02d5ffc71da10cdb312de2cb1.jpg</td><td> /data/art</td><td>art</td></tr><tr><td>8578</td><td>036ec267-658b-4dad-a097-8ef0b4f30c0d</td><td>Snake Collarbone Temporary Tattoo  Halloween Tattoos  Spooky   Etsy</td><td>Snake temporary tattoo for collarbone. Spooky 3D tattoo for Halloween Includes 2 copies, 1 for the right side and 1 for the left side Apply with water and remove anytime with ba… </td><td>0</td><td>Livitrevisani</td><td>Finger Tattoo Designs,Small Tattoo Designs,Finger Tattoos,Small 3d Tattoos,Cool Tattoos,Line Work Tattoo,Back Tattoo,Collarbone Tattoo,Tattoo Neck</td><td>image</td><td>https://i.pinimg.com/originals/d8/b7/a1/d8b7a11a3fe64e7fab91d3afb1536537.jpg</td><td> /data/tattoos</td><td>tattoos</td></tr><tr><td>4137</td><td>bf275054-4464-448b-9143-1bf101aa366d</td><td>15 Essential Classroom Items For First Year Teachers   First Year Teacher Must Haves</td><td>15 Essential Classroom Items For First Year Teachers / First Year Teacher Must Haves</td><td>5</td><td>Write Your Story   Budgeting  Healthy Lifestyle  Faith</td><td>1st Year Teachers,First Year Teaching,First Grade Teachers,Elementary Teacher,Montessori Elementary,Teaching Reading,History Teachers,High School Classroom,First Grade Classroom</td><td>image</td><td>https://i.pinimg.com/originals/4b/b9/a8/4bb9a85f609a8384ed9c9ab14e7bcea0.jpg</td><td> /data/education</td><td>education</td></tr><tr><td>4137</td><td>bf275054-4464-448b-9143-1bf101aa366d</td><td>15 Essential Classroom Items For First Year Teachers   First Year Teacher Must Haves</td><td>15 Essential Classroom Items For First Year Teachers / First Year Teacher Must Haves</td><td>5</td><td>Write Your Story   Budgeting  Healthy Lifestyle  Faith</td><td>1st Year Teachers,First Year Teaching,First Grade Teachers,Elementary Teacher,Montessori Elementary,Teaching Reading,History Teachers,High School Classroom,First Grade Classroom</td><td>image</td><td>https://i.pinimg.com/originals/4b/b9/a8/4bb9a85f609a8384ed9c9ab14e7bcea0.jpg</td><td> /data/education</td><td>education</td></tr><tr><td>6566</td><td>6d8848f8-f515-4935-8dae-5dd02304d76e</td><td>Navy and Neutral Fall Living Room   Kitchen Tour   Sand and Sisal</td><td>Celebrate fall with a neutral color palette with natural elements. This Navy and Neutral Fall Living Room + Kitchen Tour will make you rethink fall decor.</td><td>178</td><td>Sand and Sisal</td><td>Fall Living Room,Coastal Living Rooms,Living Room Paint,Living Room Kitchen,Living Room Interior,Living Room Furniture,Living Room Decor,Living Area,Small Living</td><td>image</td><td>https://i.pinimg.com/originals/f1/be/b6/f1beb6d3414f1c52929df39a83d8da9f.jpg</td><td> /data/home-decor</td><td>home-decor</td></tr></tbody></table></div>"
      ]
     },
     "metadata": {
      "application/vnd.databricks.v1+output": {
       "addedWidgets": {},
       "aggData": [],
       "aggError": "",
       "aggOverflow": false,
       "aggSchema": [],
       "aggSeriesLimitReached": false,
       "aggType": "",
       "arguments": {},
       "columnCustomDisplayInfos": {},
       "data": [
        [
         8606,
         "71757040-bfc8-4631-9cac-22801e61d9e3",
         "30  Eagle Tattoos Ideas for Women",
         "summcoco gives you inspiration for the women fashion trends you want. Thinking about a new look or lifestyle? This is your ultimate resource to get the hottest trends. 30+ Eagle… ",
         306,
         "Sumcoco   Decor Ideas  Hairstyles  Nails Fashion Advice",
         "White Bird Tattoos,Rose Tattoos,Flower Tattoos,Tattoo Black,Bird And Flower Tattoo,Tattoo Floral,Mini Tattoos,Flower Art,Girls With Sleeve Tattoos",
         "image",
         "https://i.pinimg.com/originals/8d/c6/ed/8dc6ed0b212393187a14c7d07a88060f.png",
         " /data/tattoos",
         "tattoos"
        ],
        [
         6063,
         "60693727-4927-4bd6-a8c5-096a392d63e6",
         "41 Gorgeous Fall Decor Ideas For Your Home   Chaylor   Mads",
         "Beautiful and easy ways to update every room in your home with fall decor. Plus, my favorite finds in fall decor for 2020!",
         92,
         "Kristen   Lifestyle  Mom Tips   Teacher Stuff Blog",
         "Fall Home Decor,Autumn Home,Fall Decor Outdoor,Front Porch Fall Decor,Home Decor Ideas,Porch Ideas For Fall,Fall Outdoor Decorating,Decorating Ideas For Fall,Fall Front Doors",
         "image",
         "https://i.pinimg.com/originals/e5/ae/dc/e5aedc14ce557e3a69f672e0f8c88f6e.png",
         " /data/home-decor",
         "home-decor"
        ],
        [
         6063,
         "60693727-4927-4bd6-a8c5-096a392d63e6",
         "41 Gorgeous Fall Decor Ideas For Your Home   Chaylor   Mads",
         "Beautiful and easy ways to update every room in your home with fall decor. Plus, my favorite finds in fall decor for 2020!",
         92,
         "Kristen   Lifestyle  Mom Tips   Teacher Stuff Blog",
         "Fall Home Decor,Autumn Home,Fall Decor Outdoor,Front Porch Fall Decor,Home Decor Ideas,Porch Ideas For Fall,Fall Outdoor Decorating,Decorating Ideas For Fall,Fall Front Doors",
         "image",
         "https://i.pinimg.com/originals/e5/ae/dc/e5aedc14ce557e3a69f672e0f8c88f6e.png",
         " /data/home-decor",
         "home-decor"
        ],
        [
         5076,
         "fa3af29c-dc78-4eed-a4c5-52a407ea04c0",
         "Quiz  Test Your Event IQ    Pointers For Planners",
         "So you're thinking of getting your event planner certification, but how much do you REALLY know about event planning? Event planners need to be knowledgeable and able to answer… ",
         5,
         "QC Career School",
         "Diy Wedding Food,Best Wedding Makeup,Wedding Events,Wedding Tips,Wedding Stuff,Weddings,Event Planning Business,Business Events,Wedding Makeup Tutorial",
         "image",
         "https://i.pinimg.com/originals/6f/19/bc/6f19bce24921bf843540fc04da9eb6bf.jpg",
         " /data/event-planning",
         "event-planning"
        ],
        [
         5076,
         "fa3af29c-dc78-4eed-a4c5-52a407ea04c0",
         "Quiz  Test Your Event IQ    Pointers For Planners",
         "So you're thinking of getting your event planner certification, but how much do you REALLY know about event planning? Event planners need to be knowledgeable and able to answer… ",
         5,
         "QC Career School",
         "Diy Wedding Food,Best Wedding Makeup,Wedding Events,Wedding Tips,Wedding Stuff,Weddings,Event Planning Business,Business Events,Wedding Makeup Tutorial",
         "image",
         "https://i.pinimg.com/originals/6f/19/bc/6f19bce24921bf843540fc04da9eb6bf.jpg",
         " /data/event-planning",
         "event-planning"
        ],
        [
         552,
         "b82602a9-e434-42cf-9481-22f3f41d82ce",
         "The herbal bed  Katie Scott s psychedelic flora and fauna   in pictures",
         "Nike trainers sprout plants and French perfumiers inspire by mysterious scientific icons in Katie Scott’s visions that take botanical illustration into the digital age",
         908,
         "The Guardian",
         "Art And Illustration,Illustration Inspiration,Botanical Illustration,Vintage Illustrations,Botanical Drawings,Botanical Prints,Arte Inspo,Insect Art,Psychedelic",
         "image",
         "https://i.pinimg.com/originals/16/8a/fa/168afae02d5ffc71da10cdb312de2cb1.jpg",
         " /data/art",
         "art"
        ],
        [
         8578,
         "036ec267-658b-4dad-a097-8ef0b4f30c0d",
         "Snake Collarbone Temporary Tattoo  Halloween Tattoos  Spooky   Etsy",
         "Snake temporary tattoo for collarbone. Spooky 3D tattoo for Halloween Includes 2 copies, 1 for the right side and 1 for the left side Apply with water and remove anytime with ba… ",
         0,
         "Livitrevisani",
         "Finger Tattoo Designs,Small Tattoo Designs,Finger Tattoos,Small 3d Tattoos,Cool Tattoos,Line Work Tattoo,Back Tattoo,Collarbone Tattoo,Tattoo Neck",
         "image",
         "https://i.pinimg.com/originals/d8/b7/a1/d8b7a11a3fe64e7fab91d3afb1536537.jpg",
         " /data/tattoos",
         "tattoos"
        ],
        [
         4137,
         "bf275054-4464-448b-9143-1bf101aa366d",
         "15 Essential Classroom Items For First Year Teachers   First Year Teacher Must Haves",
         "15 Essential Classroom Items For First Year Teachers / First Year Teacher Must Haves",
         5,
         "Write Your Story   Budgeting  Healthy Lifestyle  Faith",
         "1st Year Teachers,First Year Teaching,First Grade Teachers,Elementary Teacher,Montessori Elementary,Teaching Reading,History Teachers,High School Classroom,First Grade Classroom",
         "image",
         "https://i.pinimg.com/originals/4b/b9/a8/4bb9a85f609a8384ed9c9ab14e7bcea0.jpg",
         " /data/education",
         "education"
        ],
        [
         4137,
         "bf275054-4464-448b-9143-1bf101aa366d",
         "15 Essential Classroom Items For First Year Teachers   First Year Teacher Must Haves",
         "15 Essential Classroom Items For First Year Teachers / First Year Teacher Must Haves",
         5,
         "Write Your Story   Budgeting  Healthy Lifestyle  Faith",
         "1st Year Teachers,First Year Teaching,First Grade Teachers,Elementary Teacher,Montessori Elementary,Teaching Reading,History Teachers,High School Classroom,First Grade Classroom",
         "image",
         "https://i.pinimg.com/originals/4b/b9/a8/4bb9a85f609a8384ed9c9ab14e7bcea0.jpg",
         " /data/education",
         "education"
        ],
        [
         6566,
         "6d8848f8-f515-4935-8dae-5dd02304d76e",
         "Navy and Neutral Fall Living Room   Kitchen Tour   Sand and Sisal",
         "Celebrate fall with a neutral color palette with natural elements. This Navy and Neutral Fall Living Room + Kitchen Tour will make you rethink fall decor.",
         178,
         "Sand and Sisal",
         "Fall Living Room,Coastal Living Rooms,Living Room Paint,Living Room Kitchen,Living Room Interior,Living Room Furniture,Living Room Decor,Living Area,Small Living",
         "image",
         "https://i.pinimg.com/originals/f1/be/b6/f1beb6d3414f1c52929df39a83d8da9f.jpg",
         " /data/home-decor",
         "home-decor"
        ]
       ],
       "datasetInfos": [],
       "dbfsResultPath": null,
       "isJsonSchema": true,
       "metadata": {},
       "overflow": false,
       "plotOptions": {
        "customPlotOptions": {},
        "displayType": "table",
        "pivotAggregation": null,
        "pivotColumns": null,
        "xColumns": null,
        "yColumns": null
       },
       "removedWidgets": [],
       "schema": [
        {
         "metadata": "{}",
         "name": "ind",
         "type": "\"integer\""
        },
        {
         "metadata": "{}",
         "name": "unique_id",
         "type": "\"string\""
        },
        {
         "metadata": "{}",
         "name": "title",
         "type": "\"string\""
        },
        {
         "metadata": "{}",
         "name": "description",
         "type": "\"string\""
        },
        {
         "metadata": "{}",
         "name": "follower_count",
         "type": "\"integer\""
        },
        {
         "metadata": "{}",
         "name": "poster_name",
         "type": "\"string\""
        },
        {
         "metadata": "{}",
         "name": "tag_list",
         "type": "\"string\""
        },
        {
         "metadata": "{}",
         "name": "is_image_or_video",
         "type": "\"string\""
        },
        {
         "metadata": "{}",
         "name": "image_src",
         "type": "\"string\""
        },
        {
         "metadata": "{}",
         "name": "save_location",
         "type": "\"string\""
        },
        {
         "metadata": "{}",
         "name": "category",
         "type": "\"string\""
        }
       ],
       "type": "table"
      }
     },
     "output_type": "display_data"
    }
   ],
   "source": [
    "%sql\n",
    "SELECT * FROM df_pin_data LIMIT 10"
   ]
  },
  {
   "cell_type": "code",
   "execution_count": 0,
   "metadata": {
    "application/vnd.databricks.v1+cell": {
     "cellMetadata": {},
     "inputWidgets": {},
     "nuid": "efd90c39-ebff-4cab-a372-59819036d3bb",
     "showTitle": false,
     "title": ""
    }
   },
   "outputs": [],
   "source": [
    "TABLE "
   ]
  },
  {
   "cell_type": "code",
   "execution_count": 0,
   "metadata": {
    "application/vnd.databricks.v1+cell": {
     "cellMetadata": {
      "byteLimit": 2048000,
      "implicitDf": true,
      "rowLimit": 10000
     },
     "inputWidgets": {},
     "nuid": "fdd5a2c9-51aa-49da-b7ff-a7938b2e9449",
     "showTitle": false,
     "title": ""
    }
   },
   "outputs": [
    {
     "output_type": "display_data",
     "data": {
      "text/html": [
       "<style scoped>\n",
       "  .table-result-container {\n",
       "    max-height: 300px;\n",
       "    overflow: auto;\n",
       "  }\n",
       "  table, th, td {\n",
       "    border: 1px solid black;\n",
       "    border-collapse: collapse;\n",
       "  }\n",
       "  th, td {\n",
       "    padding: 5px;\n",
       "  }\n",
       "  th {\n",
       "    text-align: left;\n",
       "  }\n",
       "</style><div class='table-result-container'><table class='table-result'><thead style='background-color: white'><tr></tr></thead><tbody></tbody></table></div>"
      ]
     },
     "metadata": {
      "application/vnd.databricks.v1+output": {
       "addedWidgets": {},
       "aggData": [],
       "aggError": "",
       "aggOverflow": false,
       "aggSchema": [],
       "aggSeriesLimitReached": false,
       "aggType": "",
       "arguments": {},
       "columnCustomDisplayInfos": {},
       "data": [],
       "datasetInfos": [],
       "dbfsResultPath": null,
       "isJsonSchema": true,
       "metadata": {},
       "overflow": false,
       "plotOptions": {
        "customPlotOptions": {},
        "displayType": "table",
        "pivotAggregation": null,
        "pivotColumns": null,
        "xColumns": null,
        "yColumns": null
       },
       "removedWidgets": [],
       "schema": [],
       "type": "table"
      }
     },
     "output_type": "display_data"
    }
   ],
   "source": [
    "%sql\n",
    "CREATE TEMP VIEW full_data_set AS\n",
    "SELECT \n",
    "  pin.*,\n",
    "  geo.ind AS geo_ind,\n",
    "  geo.coordinates AS coordinates,\n",
    "  geo.country AS country,\n",
    "  geo.timestamp AS geo_timestamp,\n",
    "  user.ind AS user_ind,\n",
    "  user.user_name AS user_name,\n",
    "  user.age AS age,\n",
    "  user.date_joined AS date_joined\n",
    "FROM \n",
    "  df_pin_data AS pin\n",
    "INNER JOIN\n",
    "  df_geo_data AS geo\n",
    "ON pin.ind = geo.ind\n",
    "INNER JOIN\n",
    "  df_user_data AS user\n",
    "ON geo.ind = user.ind;\n",
    "\n"
   ]
  },
  {
   "cell_type": "code",
   "execution_count": 0,
   "metadata": {
    "application/vnd.databricks.v1+cell": {
     "cellMetadata": {
      "byteLimit": 2048000,
      "implicitDf": true,
      "rowLimit": 10000
     },
     "inputWidgets": {},
     "nuid": "c7f04f39-bb4a-40dd-ad3e-5f180f1600b9",
     "showTitle": false,
     "title": ""
    }
   },
   "outputs": [
    {
     "output_type": "display_data",
     "data": {
      "text/html": [
       "<style scoped>\n",
       "  .table-result-container {\n",
       "    max-height: 300px;\n",
       "    overflow: auto;\n",
       "  }\n",
       "  table, th, td {\n",
       "    border: 1px solid black;\n",
       "    border-collapse: collapse;\n",
       "  }\n",
       "  th, td {\n",
       "    padding: 5px;\n",
       "  }\n",
       "  th {\n",
       "    text-align: left;\n",
       "  }\n",
       "</style><div class='table-result-container'><table class='table-result'><thead style='background-color: white'><tr><th>ind</th><th>unique_id</th><th>title</th><th>description</th><th>follower_count</th><th>poster_name</th><th>tag_list</th><th>is_image_or_video</th><th>image_src</th><th>save_location</th><th>category</th><th>geo_ind</th><th>coordinates</th><th>country</th><th>geo_timestamp</th><th>user_ind</th><th>user_name</th><th>age</th><th>date_joined</th></tr></thead><tbody><tr><td>8606</td><td>71757040-bfc8-4631-9cac-22801e61d9e3</td><td>30  Eagle Tattoos Ideas for Women</td><td>summcoco gives you inspiration for the women fashion trends you want. Thinking about a new look or lifestyle? This is your ultimate resource to get the hottest trends. 30+ Eagle… </td><td>306</td><td>Sumcoco   Decor Ideas  Hairstyles  Nails Fashion Advice</td><td>White Bird Tattoos,Rose Tattoos,Flower Tattoos,Tattoo Black,Bird And Flower Tattoo,Tattoo Floral,Mini Tattoos,Flower Art,Girls With Sleeve Tattoos</td><td>image</td><td>https://i.pinimg.com/originals/8d/c6/ed/8dc6ed0b212393187a14c7d07a88060f.png</td><td> /data/tattoos</td><td>tattoos</td><td>8606</td><td>List(-88.0974, -172.052)</td><td>Antigua and Barbuda</td><td>2021-03-28T14:54:07.000+0000</td><td>8606</td><td>Denise Adams</td><td>21</td><td>2015-11-12</td></tr><tr><td>8606</td><td>71757040-bfc8-4631-9cac-22801e61d9e3</td><td>30  Eagle Tattoos Ideas for Women</td><td>summcoco gives you inspiration for the women fashion trends you want. Thinking about a new look or lifestyle? This is your ultimate resource to get the hottest trends. 30+ Eagle… </td><td>306</td><td>Sumcoco   Decor Ideas  Hairstyles  Nails Fashion Advice</td><td>White Bird Tattoos,Rose Tattoos,Flower Tattoos,Tattoo Black,Bird And Flower Tattoo,Tattoo Floral,Mini Tattoos,Flower Art,Girls With Sleeve Tattoos</td><td>image</td><td>https://i.pinimg.com/originals/8d/c6/ed/8dc6ed0b212393187a14c7d07a88060f.png</td><td> /data/tattoos</td><td>tattoos</td><td>8606</td><td>List(-88.0974, -172.052)</td><td>Antigua and Barbuda</td><td>2021-03-28T14:54:07.000+0000</td><td>8606</td><td>Denise Adams</td><td>21</td><td>2015-11-12</td></tr><tr><td>6063</td><td>60693727-4927-4bd6-a8c5-096a392d63e6</td><td>41 Gorgeous Fall Decor Ideas For Your Home   Chaylor   Mads</td><td>Beautiful and easy ways to update every room in your home with fall decor. Plus, my favorite finds in fall decor for 2020!</td><td>92</td><td>Kristen   Lifestyle  Mom Tips   Teacher Stuff Blog</td><td>Fall Home Decor,Autumn Home,Fall Decor Outdoor,Front Porch Fall Decor,Home Decor Ideas,Porch Ideas For Fall,Fall Outdoor Decorating,Decorating Ideas For Fall,Fall Front Doors</td><td>image</td><td>https://i.pinimg.com/originals/e5/ae/dc/e5aedc14ce557e3a69f672e0f8c88f6e.png</td><td> /data/home-decor</td><td>home-decor</td><td>6063</td><td>List(-89.1797, -174.015)</td><td>Anguilla</td><td>2021-07-20T09:02:47.000+0000</td><td>6063</td><td>Corey Andrews</td><td>23</td><td>2015-11-25</td></tr><tr><td>6063</td><td>60693727-4927-4bd6-a8c5-096a392d63e6</td><td>41 Gorgeous Fall Decor Ideas For Your Home   Chaylor   Mads</td><td>Beautiful and easy ways to update every room in your home with fall decor. Plus, my favorite finds in fall decor for 2020!</td><td>92</td><td>Kristen   Lifestyle  Mom Tips   Teacher Stuff Blog</td><td>Fall Home Decor,Autumn Home,Fall Decor Outdoor,Front Porch Fall Decor,Home Decor Ideas,Porch Ideas For Fall,Fall Outdoor Decorating,Decorating Ideas For Fall,Fall Front Doors</td><td>image</td><td>https://i.pinimg.com/originals/e5/ae/dc/e5aedc14ce557e3a69f672e0f8c88f6e.png</td><td> /data/home-decor</td><td>home-decor</td><td>6063</td><td>List(-89.1797, -174.015)</td><td>Anguilla</td><td>2021-07-20T09:02:47.000+0000</td><td>6063</td><td>Corey Andrews</td><td>23</td><td>2015-11-25</td></tr><tr><td>6063</td><td>60693727-4927-4bd6-a8c5-096a392d63e6</td><td>41 Gorgeous Fall Decor Ideas For Your Home   Chaylor   Mads</td><td>Beautiful and easy ways to update every room in your home with fall decor. Plus, my favorite finds in fall decor for 2020!</td><td>92</td><td>Kristen   Lifestyle  Mom Tips   Teacher Stuff Blog</td><td>Fall Home Decor,Autumn Home,Fall Decor Outdoor,Front Porch Fall Decor,Home Decor Ideas,Porch Ideas For Fall,Fall Outdoor Decorating,Decorating Ideas For Fall,Fall Front Doors</td><td>image</td><td>https://i.pinimg.com/originals/e5/ae/dc/e5aedc14ce557e3a69f672e0f8c88f6e.png</td><td> /data/home-decor</td><td>home-decor</td><td>6063</td><td>List(-89.1797, -174.015)</td><td>Anguilla</td><td>2021-07-20T09:02:47.000+0000</td><td>6063</td><td>Corey Andrews</td><td>23</td><td>2015-11-25</td></tr><tr><td>6063</td><td>60693727-4927-4bd6-a8c5-096a392d63e6</td><td>41 Gorgeous Fall Decor Ideas For Your Home   Chaylor   Mads</td><td>Beautiful and easy ways to update every room in your home with fall decor. Plus, my favorite finds in fall decor for 2020!</td><td>92</td><td>Kristen   Lifestyle  Mom Tips   Teacher Stuff Blog</td><td>Fall Home Decor,Autumn Home,Fall Decor Outdoor,Front Porch Fall Decor,Home Decor Ideas,Porch Ideas For Fall,Fall Outdoor Decorating,Decorating Ideas For Fall,Fall Front Doors</td><td>image</td><td>https://i.pinimg.com/originals/e5/ae/dc/e5aedc14ce557e3a69f672e0f8c88f6e.png</td><td> /data/home-decor</td><td>home-decor</td><td>6063</td><td>List(-89.1797, -174.015)</td><td>Anguilla</td><td>2021-07-20T09:02:47.000+0000</td><td>6063</td><td>Corey Andrews</td><td>23</td><td>2015-11-25</td></tr><tr><td>6063</td><td>60693727-4927-4bd6-a8c5-096a392d63e6</td><td>41 Gorgeous Fall Decor Ideas For Your Home   Chaylor   Mads</td><td>Beautiful and easy ways to update every room in your home with fall decor. Plus, my favorite finds in fall decor for 2020!</td><td>92</td><td>Kristen   Lifestyle  Mom Tips   Teacher Stuff Blog</td><td>Fall Home Decor,Autumn Home,Fall Decor Outdoor,Front Porch Fall Decor,Home Decor Ideas,Porch Ideas For Fall,Fall Outdoor Decorating,Decorating Ideas For Fall,Fall Front Doors</td><td>image</td><td>https://i.pinimg.com/originals/e5/ae/dc/e5aedc14ce557e3a69f672e0f8c88f6e.png</td><td> /data/home-decor</td><td>home-decor</td><td>6063</td><td>List(-89.1797, -174.015)</td><td>Anguilla</td><td>2021-07-20T09:02:47.000+0000</td><td>6063</td><td>Corey Andrews</td><td>23</td><td>2015-11-25</td></tr><tr><td>6063</td><td>60693727-4927-4bd6-a8c5-096a392d63e6</td><td>41 Gorgeous Fall Decor Ideas For Your Home   Chaylor   Mads</td><td>Beautiful and easy ways to update every room in your home with fall decor. Plus, my favorite finds in fall decor for 2020!</td><td>92</td><td>Kristen   Lifestyle  Mom Tips   Teacher Stuff Blog</td><td>Fall Home Decor,Autumn Home,Fall Decor Outdoor,Front Porch Fall Decor,Home Decor Ideas,Porch Ideas For Fall,Fall Outdoor Decorating,Decorating Ideas For Fall,Fall Front Doors</td><td>image</td><td>https://i.pinimg.com/originals/e5/ae/dc/e5aedc14ce557e3a69f672e0f8c88f6e.png</td><td> /data/home-decor</td><td>home-decor</td><td>6063</td><td>List(-89.1797, -174.015)</td><td>Anguilla</td><td>2021-07-20T09:02:47.000+0000</td><td>6063</td><td>Corey Andrews</td><td>23</td><td>2015-11-25</td></tr><tr><td>6063</td><td>60693727-4927-4bd6-a8c5-096a392d63e6</td><td>41 Gorgeous Fall Decor Ideas For Your Home   Chaylor   Mads</td><td>Beautiful and easy ways to update every room in your home with fall decor. Plus, my favorite finds in fall decor for 2020!</td><td>92</td><td>Kristen   Lifestyle  Mom Tips   Teacher Stuff Blog</td><td>Fall Home Decor,Autumn Home,Fall Decor Outdoor,Front Porch Fall Decor,Home Decor Ideas,Porch Ideas For Fall,Fall Outdoor Decorating,Decorating Ideas For Fall,Fall Front Doors</td><td>image</td><td>https://i.pinimg.com/originals/e5/ae/dc/e5aedc14ce557e3a69f672e0f8c88f6e.png</td><td> /data/home-decor</td><td>home-decor</td><td>6063</td><td>List(-89.1797, -174.015)</td><td>Anguilla</td><td>2021-07-20T09:02:47.000+0000</td><td>6063</td><td>Corey Andrews</td><td>23</td><td>2015-11-25</td></tr><tr><td>6063</td><td>60693727-4927-4bd6-a8c5-096a392d63e6</td><td>41 Gorgeous Fall Decor Ideas For Your Home   Chaylor   Mads</td><td>Beautiful and easy ways to update every room in your home with fall decor. Plus, my favorite finds in fall decor for 2020!</td><td>92</td><td>Kristen   Lifestyle  Mom Tips   Teacher Stuff Blog</td><td>Fall Home Decor,Autumn Home,Fall Decor Outdoor,Front Porch Fall Decor,Home Decor Ideas,Porch Ideas For Fall,Fall Outdoor Decorating,Decorating Ideas For Fall,Fall Front Doors</td><td>image</td><td>https://i.pinimg.com/originals/e5/ae/dc/e5aedc14ce557e3a69f672e0f8c88f6e.png</td><td> /data/home-decor</td><td>home-decor</td><td>6063</td><td>List(-89.1797, -174.015)</td><td>Anguilla</td><td>2021-07-20T09:02:47.000+0000</td><td>6063</td><td>Corey Andrews</td><td>23</td><td>2015-11-25</td></tr></tbody></table></div>"
      ]
     },
     "metadata": {
      "application/vnd.databricks.v1+output": {
       "addedWidgets": {},
       "aggData": [],
       "aggError": "",
       "aggOverflow": false,
       "aggSchema": [],
       "aggSeriesLimitReached": false,
       "aggType": "",
       "arguments": {},
       "columnCustomDisplayInfos": {},
       "data": [
        [
         8606,
         "71757040-bfc8-4631-9cac-22801e61d9e3",
         "30  Eagle Tattoos Ideas for Women",
         "summcoco gives you inspiration for the women fashion trends you want. Thinking about a new look or lifestyle? This is your ultimate resource to get the hottest trends. 30+ Eagle… ",
         306,
         "Sumcoco   Decor Ideas  Hairstyles  Nails Fashion Advice",
         "White Bird Tattoos,Rose Tattoos,Flower Tattoos,Tattoo Black,Bird And Flower Tattoo,Tattoo Floral,Mini Tattoos,Flower Art,Girls With Sleeve Tattoos",
         "image",
         "https://i.pinimg.com/originals/8d/c6/ed/8dc6ed0b212393187a14c7d07a88060f.png",
         " /data/tattoos",
         "tattoos",
         8606,
         [
          -88.0974,
          -172.052
         ],
         "Antigua and Barbuda",
         "2021-03-28T14:54:07.000+0000",
         8606,
         "Denise Adams",
         21,
         "2015-11-12"
        ],
        [
         8606,
         "71757040-bfc8-4631-9cac-22801e61d9e3",
         "30  Eagle Tattoos Ideas for Women",
         "summcoco gives you inspiration for the women fashion trends you want. Thinking about a new look or lifestyle? This is your ultimate resource to get the hottest trends. 30+ Eagle… ",
         306,
         "Sumcoco   Decor Ideas  Hairstyles  Nails Fashion Advice",
         "White Bird Tattoos,Rose Tattoos,Flower Tattoos,Tattoo Black,Bird And Flower Tattoo,Tattoo Floral,Mini Tattoos,Flower Art,Girls With Sleeve Tattoos",
         "image",
         "https://i.pinimg.com/originals/8d/c6/ed/8dc6ed0b212393187a14c7d07a88060f.png",
         " /data/tattoos",
         "tattoos",
         8606,
         [
          -88.0974,
          -172.052
         ],
         "Antigua and Barbuda",
         "2021-03-28T14:54:07.000+0000",
         8606,
         "Denise Adams",
         21,
         "2015-11-12"
        ],
        [
         6063,
         "60693727-4927-4bd6-a8c5-096a392d63e6",
         "41 Gorgeous Fall Decor Ideas For Your Home   Chaylor   Mads",
         "Beautiful and easy ways to update every room in your home with fall decor. Plus, my favorite finds in fall decor for 2020!",
         92,
         "Kristen   Lifestyle  Mom Tips   Teacher Stuff Blog",
         "Fall Home Decor,Autumn Home,Fall Decor Outdoor,Front Porch Fall Decor,Home Decor Ideas,Porch Ideas For Fall,Fall Outdoor Decorating,Decorating Ideas For Fall,Fall Front Doors",
         "image",
         "https://i.pinimg.com/originals/e5/ae/dc/e5aedc14ce557e3a69f672e0f8c88f6e.png",
         " /data/home-decor",
         "home-decor",
         6063,
         [
          -89.1797,
          -174.015
         ],
         "Anguilla",
         "2021-07-20T09:02:47.000+0000",
         6063,
         "Corey Andrews",
         23,
         "2015-11-25"
        ],
        [
         6063,
         "60693727-4927-4bd6-a8c5-096a392d63e6",
         "41 Gorgeous Fall Decor Ideas For Your Home   Chaylor   Mads",
         "Beautiful and easy ways to update every room in your home with fall decor. Plus, my favorite finds in fall decor for 2020!",
         92,
         "Kristen   Lifestyle  Mom Tips   Teacher Stuff Blog",
         "Fall Home Decor,Autumn Home,Fall Decor Outdoor,Front Porch Fall Decor,Home Decor Ideas,Porch Ideas For Fall,Fall Outdoor Decorating,Decorating Ideas For Fall,Fall Front Doors",
         "image",
         "https://i.pinimg.com/originals/e5/ae/dc/e5aedc14ce557e3a69f672e0f8c88f6e.png",
         " /data/home-decor",
         "home-decor",
         6063,
         [
          -89.1797,
          -174.015
         ],
         "Anguilla",
         "2021-07-20T09:02:47.000+0000",
         6063,
         "Corey Andrews",
         23,
         "2015-11-25"
        ],
        [
         6063,
         "60693727-4927-4bd6-a8c5-096a392d63e6",
         "41 Gorgeous Fall Decor Ideas For Your Home   Chaylor   Mads",
         "Beautiful and easy ways to update every room in your home with fall decor. Plus, my favorite finds in fall decor for 2020!",
         92,
         "Kristen   Lifestyle  Mom Tips   Teacher Stuff Blog",
         "Fall Home Decor,Autumn Home,Fall Decor Outdoor,Front Porch Fall Decor,Home Decor Ideas,Porch Ideas For Fall,Fall Outdoor Decorating,Decorating Ideas For Fall,Fall Front Doors",
         "image",
         "https://i.pinimg.com/originals/e5/ae/dc/e5aedc14ce557e3a69f672e0f8c88f6e.png",
         " /data/home-decor",
         "home-decor",
         6063,
         [
          -89.1797,
          -174.015
         ],
         "Anguilla",
         "2021-07-20T09:02:47.000+0000",
         6063,
         "Corey Andrews",
         23,
         "2015-11-25"
        ],
        [
         6063,
         "60693727-4927-4bd6-a8c5-096a392d63e6",
         "41 Gorgeous Fall Decor Ideas For Your Home   Chaylor   Mads",
         "Beautiful and easy ways to update every room in your home with fall decor. Plus, my favorite finds in fall decor for 2020!",
         92,
         "Kristen   Lifestyle  Mom Tips   Teacher Stuff Blog",
         "Fall Home Decor,Autumn Home,Fall Decor Outdoor,Front Porch Fall Decor,Home Decor Ideas,Porch Ideas For Fall,Fall Outdoor Decorating,Decorating Ideas For Fall,Fall Front Doors",
         "image",
         "https://i.pinimg.com/originals/e5/ae/dc/e5aedc14ce557e3a69f672e0f8c88f6e.png",
         " /data/home-decor",
         "home-decor",
         6063,
         [
          -89.1797,
          -174.015
         ],
         "Anguilla",
         "2021-07-20T09:02:47.000+0000",
         6063,
         "Corey Andrews",
         23,
         "2015-11-25"
        ],
        [
         6063,
         "60693727-4927-4bd6-a8c5-096a392d63e6",
         "41 Gorgeous Fall Decor Ideas For Your Home   Chaylor   Mads",
         "Beautiful and easy ways to update every room in your home with fall decor. Plus, my favorite finds in fall decor for 2020!",
         92,
         "Kristen   Lifestyle  Mom Tips   Teacher Stuff Blog",
         "Fall Home Decor,Autumn Home,Fall Decor Outdoor,Front Porch Fall Decor,Home Decor Ideas,Porch Ideas For Fall,Fall Outdoor Decorating,Decorating Ideas For Fall,Fall Front Doors",
         "image",
         "https://i.pinimg.com/originals/e5/ae/dc/e5aedc14ce557e3a69f672e0f8c88f6e.png",
         " /data/home-decor",
         "home-decor",
         6063,
         [
          -89.1797,
          -174.015
         ],
         "Anguilla",
         "2021-07-20T09:02:47.000+0000",
         6063,
         "Corey Andrews",
         23,
         "2015-11-25"
        ],
        [
         6063,
         "60693727-4927-4bd6-a8c5-096a392d63e6",
         "41 Gorgeous Fall Decor Ideas For Your Home   Chaylor   Mads",
         "Beautiful and easy ways to update every room in your home with fall decor. Plus, my favorite finds in fall decor for 2020!",
         92,
         "Kristen   Lifestyle  Mom Tips   Teacher Stuff Blog",
         "Fall Home Decor,Autumn Home,Fall Decor Outdoor,Front Porch Fall Decor,Home Decor Ideas,Porch Ideas For Fall,Fall Outdoor Decorating,Decorating Ideas For Fall,Fall Front Doors",
         "image",
         "https://i.pinimg.com/originals/e5/ae/dc/e5aedc14ce557e3a69f672e0f8c88f6e.png",
         " /data/home-decor",
         "home-decor",
         6063,
         [
          -89.1797,
          -174.015
         ],
         "Anguilla",
         "2021-07-20T09:02:47.000+0000",
         6063,
         "Corey Andrews",
         23,
         "2015-11-25"
        ],
        [
         6063,
         "60693727-4927-4bd6-a8c5-096a392d63e6",
         "41 Gorgeous Fall Decor Ideas For Your Home   Chaylor   Mads",
         "Beautiful and easy ways to update every room in your home with fall decor. Plus, my favorite finds in fall decor for 2020!",
         92,
         "Kristen   Lifestyle  Mom Tips   Teacher Stuff Blog",
         "Fall Home Decor,Autumn Home,Fall Decor Outdoor,Front Porch Fall Decor,Home Decor Ideas,Porch Ideas For Fall,Fall Outdoor Decorating,Decorating Ideas For Fall,Fall Front Doors",
         "image",
         "https://i.pinimg.com/originals/e5/ae/dc/e5aedc14ce557e3a69f672e0f8c88f6e.png",
         " /data/home-decor",
         "home-decor",
         6063,
         [
          -89.1797,
          -174.015
         ],
         "Anguilla",
         "2021-07-20T09:02:47.000+0000",
         6063,
         "Corey Andrews",
         23,
         "2015-11-25"
        ],
        [
         6063,
         "60693727-4927-4bd6-a8c5-096a392d63e6",
         "41 Gorgeous Fall Decor Ideas For Your Home   Chaylor   Mads",
         "Beautiful and easy ways to update every room in your home with fall decor. Plus, my favorite finds in fall decor for 2020!",
         92,
         "Kristen   Lifestyle  Mom Tips   Teacher Stuff Blog",
         "Fall Home Decor,Autumn Home,Fall Decor Outdoor,Front Porch Fall Decor,Home Decor Ideas,Porch Ideas For Fall,Fall Outdoor Decorating,Decorating Ideas For Fall,Fall Front Doors",
         "image",
         "https://i.pinimg.com/originals/e5/ae/dc/e5aedc14ce557e3a69f672e0f8c88f6e.png",
         " /data/home-decor",
         "home-decor",
         6063,
         [
          -89.1797,
          -174.015
         ],
         "Anguilla",
         "2021-07-20T09:02:47.000+0000",
         6063,
         "Corey Andrews",
         23,
         "2015-11-25"
        ]
       ],
       "datasetInfos": [],
       "dbfsResultPath": null,
       "isJsonSchema": true,
       "metadata": {},
       "overflow": false,
       "plotOptions": {
        "customPlotOptions": {},
        "displayType": "table",
        "pivotAggregation": null,
        "pivotColumns": null,
        "xColumns": null,
        "yColumns": null
       },
       "removedWidgets": [],
       "schema": [
        {
         "metadata": "{}",
         "name": "ind",
         "type": "\"integer\""
        },
        {
         "metadata": "{}",
         "name": "unique_id",
         "type": "\"string\""
        },
        {
         "metadata": "{}",
         "name": "title",
         "type": "\"string\""
        },
        {
         "metadata": "{}",
         "name": "description",
         "type": "\"string\""
        },
        {
         "metadata": "{}",
         "name": "follower_count",
         "type": "\"integer\""
        },
        {
         "metadata": "{}",
         "name": "poster_name",
         "type": "\"string\""
        },
        {
         "metadata": "{}",
         "name": "tag_list",
         "type": "\"string\""
        },
        {
         "metadata": "{}",
         "name": "is_image_or_video",
         "type": "\"string\""
        },
        {
         "metadata": "{}",
         "name": "image_src",
         "type": "\"string\""
        },
        {
         "metadata": "{}",
         "name": "save_location",
         "type": "\"string\""
        },
        {
         "metadata": "{}",
         "name": "category",
         "type": "\"string\""
        },
        {
         "metadata": "{}",
         "name": "geo_ind",
         "type": "\"integer\""
        },
        {
         "metadata": "{}",
         "name": "coordinates",
         "type": "{\"type\":\"array\",\"elementType\":\"double\",\"containsNull\":true}"
        },
        {
         "metadata": "{}",
         "name": "country",
         "type": "\"string\""
        },
        {
         "metadata": "{}",
         "name": "geo_timestamp",
         "type": "\"timestamp\""
        },
        {
         "metadata": "{}",
         "name": "user_ind",
         "type": "\"integer\""
        },
        {
         "metadata": "{}",
         "name": "user_name",
         "type": "\"string\""
        },
        {
         "metadata": "{}",
         "name": "age",
         "type": "\"integer\""
        },
        {
         "metadata": "{}",
         "name": "date_joined",
         "type": "\"date\""
        }
       ],
       "type": "table"
      }
     },
     "output_type": "display_data"
    }
   ],
   "source": [
    "%sql\n",
    "select * from full_data_set limit 10;"
   ]
  },
  {
   "cell_type": "code",
   "execution_count": 0,
   "metadata": {
    "application/vnd.databricks.v1+cell": {
     "cellMetadata": {
      "byteLimit": 2048000,
      "implicitDf": true,
      "rowLimit": 10000
     },
     "inputWidgets": {},
     "nuid": "140eee40-0271-494f-8a90-d2addf33f545",
     "showTitle": false,
     "title": ""
    }
   },
   "outputs": [
    {
     "output_type": "display_data",
     "data": {
      "text/html": [
       "<style scoped>\n",
       "  .table-result-container {\n",
       "    max-height: 300px;\n",
       "    overflow: auto;\n",
       "  }\n",
       "  table, th, td {\n",
       "    border: 1px solid black;\n",
       "    border-collapse: collapse;\n",
       "  }\n",
       "  th, td {\n",
       "    padding: 5px;\n",
       "  }\n",
       "  th {\n",
       "    text-align: left;\n",
       "  }\n",
       "</style><div class='table-result-container'><table class='table-result'><thead style='background-color: white'><tr><th>country</th><th>category</th><th>category_count</th></tr></thead><tbody><tr><td>Armenia</td><td>diy-and-crafts</td><td>28</td></tr><tr><td>Colombia</td><td>finance</td><td>20</td></tr><tr><td>Austria</td><td>travel</td><td>16</td></tr><tr><td>Aruba</td><td>tattoos</td><td>12</td></tr><tr><td>French Guiana</td><td>quotes</td><td>12</td></tr><tr><td>Maldives</td><td>beauty</td><td>12</td></tr><tr><td>Aruba</td><td>mens-fashion</td><td>8</td></tr><tr><td>Germany</td><td>event-planning</td><td>8</td></tr><tr><td>Cocos (Keeling) Islands</td><td>vehicles</td><td>8</td></tr><tr><td>Central African Republic</td><td>christmas</td><td>8</td></tr><tr><td>Saint Kitts and Nevis</td><td>vehicles</td><td>8</td></tr><tr><td>Antarctica (the territory South of 60 deg S)</td><td>christmas</td><td>8</td></tr><tr><td>India</td><td>travel</td><td>8</td></tr><tr><td>Albania</td><td>christmas</td><td>8</td></tr><tr><td>Cambodia</td><td>diy-and-crafts</td><td>8</td></tr><tr><td>Tonga</td><td>beauty</td><td>8</td></tr><tr><td>Jamaica</td><td>vehicles</td><td>8</td></tr><tr><td>Algeria</td><td>travel</td><td>8</td></tr><tr><td>Botswana</td><td>tattoos</td><td>8</td></tr><tr><td>Congo</td><td>art</td><td>8</td></tr><tr><td>Australia</td><td>education</td><td>8</td></tr><tr><td>Sudan</td><td>mens-fashion</td><td>8</td></tr><tr><td>Barbados</td><td>travel</td><td>8</td></tr><tr><td>Anguilla</td><td>home-decor</td><td>8</td></tr><tr><td>Bulgaria</td><td>finance</td><td>8</td></tr><tr><td>Mozambique</td><td>home-decor</td><td>8</td></tr><tr><td>Seychelles</td><td>tattoos</td><td>8</td></tr><tr><td>Dominican Republic</td><td>travel</td><td>8</td></tr><tr><td>Angola</td><td>diy-and-crafts</td><td>8</td></tr><tr><td>Philippines</td><td>event-planning</td><td>8</td></tr><tr><td>Cote d'Ivoire</td><td>education</td><td>8</td></tr><tr><td>Cote d'Ivoire</td><td>diy-and-crafts</td><td>8</td></tr><tr><td>Antigua and Barbuda</td><td>quotes</td><td>8</td></tr><tr><td>Egypt</td><td>diy-and-crafts</td><td>8</td></tr><tr><td>Aruba</td><td>event-planning</td><td>8</td></tr><tr><td>Anguilla</td><td>beauty</td><td>4</td></tr><tr><td>Armenia</td><td>christmas</td><td>4</td></tr><tr><td>Albania</td><td>art</td><td>4</td></tr><tr><td>Netherlands Antilles</td><td>art</td><td>4</td></tr><tr><td>Montserrat</td><td>art</td><td>4</td></tr><tr><td>Armenia</td><td>art</td><td>4</td></tr><tr><td>American Samoa</td><td>travel</td><td>4</td></tr><tr><td>British Virgin Islands</td><td>christmas</td><td>4</td></tr><tr><td>Antigua and Barbuda</td><td>tattoos</td><td>4</td></tr><tr><td>Gibraltar</td><td>vehicles</td><td>4</td></tr><tr><td>Argentina</td><td>tattoos</td><td>4</td></tr><tr><td>Australia</td><td>mens-fashion</td><td>4</td></tr><tr><td>Armenia</td><td>beauty</td><td>4</td></tr><tr><td>Barbados</td><td>art</td><td>4</td></tr><tr><td>Papua New Guinea</td><td>quotes</td><td>4</td></tr><tr><td>Isle of Man</td><td>finance</td><td>4</td></tr><tr><td>Mauritania</td><td>education</td><td>4</td></tr><tr><td>Bermuda</td><td>christmas</td><td>4</td></tr><tr><td>Bahrain</td><td>finance</td><td>1</td></tr><tr><td>Grenada</td><td>vehicles</td><td>1</td></tr><tr><td>Algeria</td><td>quotes</td><td>1</td></tr><tr><td>Isle of Man</td><td>art</td><td>1</td></tr><tr><td>Turkey</td><td>education</td><td>1</td></tr><tr><td>Albania</td><td>home-decor</td><td>1</td></tr><tr><td>Cape Verde</td><td>home-decor</td><td>1</td></tr><tr><td>Christmas Island</td><td>travel</td><td>1</td></tr><tr><td>Aruba</td><td>education</td><td>1</td></tr><tr><td>Andorra</td><td>beauty</td><td>1</td></tr><tr><td>Afghanistan</td><td>art</td><td>1</td></tr><tr><td>Maldives</td><td>finance</td><td>1</td></tr><tr><td>Bhutan</td><td>diy-and-crafts</td><td>1</td></tr><tr><td>Lesotho</td><td>art</td><td>1</td></tr><tr><td>Argentina</td><td>beauty</td><td>1</td></tr><tr><td>New Caledonia</td><td>mens-fashion</td><td>1</td></tr><tr><td>Australia</td><td>travel</td><td>1</td></tr><tr><td>Algeria</td><td>beauty</td><td>1</td></tr><tr><td>Madagascar</td><td>event-planning</td><td>1</td></tr><tr><td>Guinea-Bissau</td><td>tattoos</td><td>1</td></tr></tbody></table></div>"
      ]
     },
     "metadata": {
      "application/vnd.databricks.v1+output": {
       "addedWidgets": {},
       "aggData": [],
       "aggError": "",
       "aggOverflow": false,
       "aggSchema": [],
       "aggSeriesLimitReached": false,
       "aggType": "",
       "arguments": {},
       "columnCustomDisplayInfos": {},
       "data": [
        [
         "Armenia",
         "diy-and-crafts",
         28
        ],
        [
         "Colombia",
         "finance",
         20
        ],
        [
         "Austria",
         "travel",
         16
        ],
        [
         "Aruba",
         "tattoos",
         12
        ],
        [
         "French Guiana",
         "quotes",
         12
        ],
        [
         "Maldives",
         "beauty",
         12
        ],
        [
         "Aruba",
         "mens-fashion",
         8
        ],
        [
         "Germany",
         "event-planning",
         8
        ],
        [
         "Cocos (Keeling) Islands",
         "vehicles",
         8
        ],
        [
         "Central African Republic",
         "christmas",
         8
        ],
        [
         "Saint Kitts and Nevis",
         "vehicles",
         8
        ],
        [
         "Antarctica (the territory South of 60 deg S)",
         "christmas",
         8
        ],
        [
         "India",
         "travel",
         8
        ],
        [
         "Albania",
         "christmas",
         8
        ],
        [
         "Cambodia",
         "diy-and-crafts",
         8
        ],
        [
         "Tonga",
         "beauty",
         8
        ],
        [
         "Jamaica",
         "vehicles",
         8
        ],
        [
         "Algeria",
         "travel",
         8
        ],
        [
         "Botswana",
         "tattoos",
         8
        ],
        [
         "Congo",
         "art",
         8
        ],
        [
         "Australia",
         "education",
         8
        ],
        [
         "Sudan",
         "mens-fashion",
         8
        ],
        [
         "Barbados",
         "travel",
         8
        ],
        [
         "Anguilla",
         "home-decor",
         8
        ],
        [
         "Bulgaria",
         "finance",
         8
        ],
        [
         "Mozambique",
         "home-decor",
         8
        ],
        [
         "Seychelles",
         "tattoos",
         8
        ],
        [
         "Dominican Republic",
         "travel",
         8
        ],
        [
         "Angola",
         "diy-and-crafts",
         8
        ],
        [
         "Philippines",
         "event-planning",
         8
        ],
        [
         "Cote d'Ivoire",
         "education",
         8
        ],
        [
         "Cote d'Ivoire",
         "diy-and-crafts",
         8
        ],
        [
         "Antigua and Barbuda",
         "quotes",
         8
        ],
        [
         "Egypt",
         "diy-and-crafts",
         8
        ],
        [
         "Aruba",
         "event-planning",
         8
        ],
        [
         "Anguilla",
         "beauty",
         4
        ],
        [
         "Armenia",
         "christmas",
         4
        ],
        [
         "Albania",
         "art",
         4
        ],
        [
         "Netherlands Antilles",
         "art",
         4
        ],
        [
         "Montserrat",
         "art",
         4
        ],
        [
         "Armenia",
         "art",
         4
        ],
        [
         "American Samoa",
         "travel",
         4
        ],
        [
         "British Virgin Islands",
         "christmas",
         4
        ],
        [
         "Antigua and Barbuda",
         "tattoos",
         4
        ],
        [
         "Gibraltar",
         "vehicles",
         4
        ],
        [
         "Argentina",
         "tattoos",
         4
        ],
        [
         "Australia",
         "mens-fashion",
         4
        ],
        [
         "Armenia",
         "beauty",
         4
        ],
        [
         "Barbados",
         "art",
         4
        ],
        [
         "Papua New Guinea",
         "quotes",
         4
        ],
        [
         "Isle of Man",
         "finance",
         4
        ],
        [
         "Mauritania",
         "education",
         4
        ],
        [
         "Bermuda",
         "christmas",
         4
        ],
        [
         "Bahrain",
         "finance",
         1
        ],
        [
         "Grenada",
         "vehicles",
         1
        ],
        [
         "Algeria",
         "quotes",
         1
        ],
        [
         "Isle of Man",
         "art",
         1
        ],
        [
         "Turkey",
         "education",
         1
        ],
        [
         "Albania",
         "home-decor",
         1
        ],
        [
         "Cape Verde",
         "home-decor",
         1
        ],
        [
         "Christmas Island",
         "travel",
         1
        ],
        [
         "Aruba",
         "education",
         1
        ],
        [
         "Andorra",
         "beauty",
         1
        ],
        [
         "Afghanistan",
         "art",
         1
        ],
        [
         "Maldives",
         "finance",
         1
        ],
        [
         "Bhutan",
         "diy-and-crafts",
         1
        ],
        [
         "Lesotho",
         "art",
         1
        ],
        [
         "Argentina",
         "beauty",
         1
        ],
        [
         "New Caledonia",
         "mens-fashion",
         1
        ],
        [
         "Australia",
         "travel",
         1
        ],
        [
         "Algeria",
         "beauty",
         1
        ],
        [
         "Madagascar",
         "event-planning",
         1
        ],
        [
         "Guinea-Bissau",
         "tattoos",
         1
        ]
       ],
       "datasetInfos": [],
       "dbfsResultPath": null,
       "isJsonSchema": true,
       "metadata": {},
       "overflow": false,
       "plotOptions": {
        "customPlotOptions": {},
        "displayType": "table",
        "pivotAggregation": null,
        "pivotColumns": null,
        "xColumns": null,
        "yColumns": null
       },
       "removedWidgets": [],
       "schema": [
        {
         "metadata": "{}",
         "name": "country",
         "type": "\"string\""
        },
        {
         "metadata": "{}",
         "name": "category",
         "type": "\"string\""
        },
        {
         "metadata": "{}",
         "name": "category_count",
         "type": "\"long\""
        }
       ],
       "type": "table"
      }
     },
     "output_type": "display_data"
    }
   ],
   "source": [
    "%sql\n",
    "--Find the most popular Pinterest category people post to based on their country.\n",
    "SELECT \n",
    "  country, \n",
    "  category, \n",
    "  COUNT(*) AS category_count\n",
    "FROM \n",
    "  full_data_set\n",
    "GROUP BY \n",
    "  country, \n",
    "  category\n",
    "ORDER BY \n",
    "  category_count DESC;"
   ]
  },
  {
   "cell_type": "code",
   "execution_count": 0,
   "metadata": {
    "application/vnd.databricks.v1+cell": {
     "cellMetadata": {
      "byteLimit": 2048000,
      "implicitDf": true,
      "rowLimit": 10000
     },
     "inputWidgets": {},
     "nuid": "59f9af47-0774-4a65-94c9-d4ddcb12b2fd",
     "showTitle": false,
     "title": ""
    }
   },
   "outputs": [
    {
     "output_type": "display_data",
     "data": {
      "text/html": [
       "<style scoped>\n",
       "  .table-result-container {\n",
       "    max-height: 300px;\n",
       "    overflow: auto;\n",
       "  }\n",
       "  table, th, td {\n",
       "    border: 1px solid black;\n",
       "    border-collapse: collapse;\n",
       "  }\n",
       "  th, td {\n",
       "    padding: 5px;\n",
       "  }\n",
       "  th {\n",
       "    text-align: left;\n",
       "  }\n",
       "</style><div class='table-result-container'><table class='table-result'><thead style='background-color: white'><tr><th>country</th><th>poster_name</th><th>Follower_count</th></tr></thead><tbody><tr><td>Sudan</td><td>iElylike              </td><td>7520</td></tr><tr><td>Armenia</td><td>Michelle  CraftyMorning com </td><td>7136</td></tr><tr><td>Central African Republic</td><td>PureWow</td><td>6944</td></tr><tr><td>Angola</td><td>CraftGossip com</td><td>4016</td></tr><tr><td>Antarctica (the territory South of 60 deg S)</td><td>HikenDip</td><td>4000</td></tr><tr><td>Antigua and Barbuda</td><td>Sumcoco   Decor Ideas  Hairstyles  Nails Fashion Advice</td><td>3672</td></tr><tr><td>Cocos (Keeling) Islands</td><td>Ray Uyemura</td><td>3496</td></tr><tr><td>Argentina</td><td>Next Luxury</td><td>3200</td></tr><tr><td>Aruba</td><td>TheTrendSpotter</td><td>2532</td></tr><tr><td>Armenia</td><td>Of Life   Lisa   Lifestyle Blog</td><td>2480</td></tr><tr><td>Armenia</td><td>ArchitectureArtDesigns</td><td>2464</td></tr><tr><td>Barbados</td><td>The Creativity Exchange</td><td>1640</td></tr><tr><td>Cote d'Ivoire</td><td>The Crafting Chicks</td><td>1536</td></tr><tr><td>Saint Kitts and Nevis</td><td>vintagetopia</td><td>1368</td></tr><tr><td>Isle of Man</td><td>Annamarie Hilton</td><td>1252</td></tr><tr><td>Algeria</td><td>Fun Life Crisis</td><td>1040</td></tr><tr><td>British Virgin Islands</td><td>Kitchen Fun With My 3 Sons</td><td>980</td></tr><tr><td>Lesotho</td><td>The Guardian</td><td>908</td></tr><tr><td>Philippines</td><td>Life of Neon   Custom Neon Light Signs   Home Decor Wall Art</td><td>888</td></tr><tr><td>Aruba</td><td>The Work at Home Woman</td><td>880</td></tr><tr><td>Andorra</td><td>Glaminati</td><td>799</td></tr><tr><td>Anguilla</td><td>Kristen   Lifestyle  Mom Tips   Teacher Stuff Blog</td><td>736</td></tr><tr><td>Austria</td><td>The World Pursuit Travel Website</td><td>712</td></tr><tr><td>Mozambique</td><td>Stylin by Aylin</td><td>664</td></tr><tr><td>French Guiana</td><td>Commitment Connection</td><td>612</td></tr><tr><td>Maldives</td><td>Thrive Causemetics</td><td>516</td></tr><tr><td>Papua New Guinea</td><td>AnnaLee Kick</td><td>448</td></tr><tr><td>New Caledonia</td><td>Au vey Smith</td><td>377</td></tr><tr><td>Gibraltar</td><td>TheSuperBOO </td><td>356</td></tr><tr><td>Anguilla</td><td>Thank Your Body</td><td>340</td></tr><tr><td>Maldives</td><td>Passion For Savings</td><td>330</td></tr><tr><td>Algeria</td><td>ELLE Germany</td><td>326</td></tr><tr><td>Grenada</td><td>p hump</td><td>314</td></tr><tr><td>Albania</td><td>Projects with Kids</td><td>240</td></tr><tr><td>Barbados</td><td>Nicki </td><td>224</td></tr><tr><td>Congo</td><td>Shawn Petite</td><td>216</td></tr><tr><td>Aruba</td><td>Mala Rock   Rock T shirts</td><td>216</td></tr><tr><td>Bulgaria</td><td>Living Low Key   Save Money  Make Money    Frugal Living</td><td>208</td></tr><tr><td>Cote d'Ivoire</td><td>Math Giraffe</td><td>200</td></tr><tr><td>Bermuda</td><td>Life on Summerhill   Home  Holiday Decor   DIY Website</td><td>184</td></tr><tr><td>Cape Verde</td><td>Sand and Sisal</td><td>178</td></tr><tr><td>American Samoa</td><td>TheFab20s   Travel Food DIY Listicles</td><td>168</td></tr><tr><td>Seychelles</td><td>ALL FOR WOMAN</td><td>168</td></tr><tr><td>Albania</td><td>MojisStyle</td><td>117</td></tr><tr><td>Australia</td><td>LLEGANCE   Workwear Fashion Woman Advice For Driven Professionals</td><td>112</td></tr><tr><td>Madagascar</td><td>MomAdvice</td><td>112</td></tr><tr><td>Armenia</td><td>The Arty Teacher</td><td>100</td></tr><tr><td>Mauritania</td><td>The Literacy Nest</td><td>88</td></tr><tr><td>Austria</td><td>Wanderlust Chloe    Travel guides  inspo and adventure travel   </td><td>80</td></tr><tr><td>Egypt</td><td>South Lumina Style</td><td>72</td></tr><tr><td>Jamaica</td><td>hobbyDB</td><td>64</td></tr><tr><td>India</td><td>Travel Mad Mum</td><td>56</td></tr><tr><td>Isle of Man</td><td>Abbotts At Home</td><td>52</td></tr><tr><td>Cambodia</td><td>Mixed Media Crafts</td><td>48</td></tr><tr><td>Bahrain</td><td>R J  Weiss at The Ways To Wealth   Personal Finance   Debt Payoff</td><td>46</td></tr><tr><td>Algeria</td><td>Boss Babe Chronicles   Personal Development  Finances  Self Care</td><td>45</td></tr><tr><td>Australia</td><td>Write Your Story   Budgeting  Healthy Lifestyle  Faith</td><td>40</td></tr><tr><td>Germany</td><td>QC Career School</td><td>40</td></tr><tr><td>Botswana</td><td>RapidLeaks</td><td>32</td></tr><tr><td>Armenia</td><td>Jiew82633</td><td>32</td></tr><tr><td>Netherlands Antilles</td><td>Kim Cook Thirteen Chairs Slates Mugs And Tees</td><td>28</td></tr><tr><td>Afghanistan</td><td>It s me  JD   DIY  Crafts  Home   Organization</td><td>27</td></tr><tr><td>Dominican Republic</td><td>Petite in Paris</td><td>24</td></tr><tr><td>Australia</td><td>Jess Wandering</td><td>22</td></tr><tr><td>Montserrat</td><td>Taming Little Monsters   Fun Activities for Kids</td><td>16</td></tr><tr><td>Aruba</td><td>Traci Bender   The Bender Bunch</td><td>11</td></tr><tr><td>Christmas Island</td><td>OUR NEXT ADVENTURE   family travel blog</td><td>9</td></tr><tr><td>Turkey</td><td>My Little Poppies  Cait Curley  MA CAGS </td><td>9</td></tr><tr><td>Argentina</td><td>Tony</td><td>3</td></tr><tr><td>Bhutan</td><td>Kids Crafts   Free Preschool Printables  Sharing Our Experiences</td><td>3</td></tr><tr><td>Guinea-Bissau</td><td>Livitrevisani</td><td>0</td></tr><tr><td>Colombia</td><td>Consuelo Aguirre</td><td>0</td></tr><tr><td>Tonga</td><td>Grecia Perales</td><td>0</td></tr></tbody></table></div>"
      ]
     },
     "metadata": {
      "application/vnd.databricks.v1+output": {
       "addedWidgets": {},
       "aggData": [],
       "aggError": "",
       "aggOverflow": false,
       "aggSchema": [],
       "aggSeriesLimitReached": false,
       "aggType": "",
       "arguments": {},
       "columnCustomDisplayInfos": {},
       "data": [
        [
         "Sudan",
         "iElylike              ",
         7520
        ],
        [
         "Armenia",
         "Michelle  CraftyMorning com ",
         7136
        ],
        [
         "Central African Republic",
         "PureWow",
         6944
        ],
        [
         "Angola",
         "CraftGossip com",
         4016
        ],
        [
         "Antarctica (the territory South of 60 deg S)",
         "HikenDip",
         4000
        ],
        [
         "Antigua and Barbuda",
         "Sumcoco   Decor Ideas  Hairstyles  Nails Fashion Advice",
         3672
        ],
        [
         "Cocos (Keeling) Islands",
         "Ray Uyemura",
         3496
        ],
        [
         "Argentina",
         "Next Luxury",
         3200
        ],
        [
         "Aruba",
         "TheTrendSpotter",
         2532
        ],
        [
         "Armenia",
         "Of Life   Lisa   Lifestyle Blog",
         2480
        ],
        [
         "Armenia",
         "ArchitectureArtDesigns",
         2464
        ],
        [
         "Barbados",
         "The Creativity Exchange",
         1640
        ],
        [
         "Cote d'Ivoire",
         "The Crafting Chicks",
         1536
        ],
        [
         "Saint Kitts and Nevis",
         "vintagetopia",
         1368
        ],
        [
         "Isle of Man",
         "Annamarie Hilton",
         1252
        ],
        [
         "Algeria",
         "Fun Life Crisis",
         1040
        ],
        [
         "British Virgin Islands",
         "Kitchen Fun With My 3 Sons",
         980
        ],
        [
         "Lesotho",
         "The Guardian",
         908
        ],
        [
         "Philippines",
         "Life of Neon   Custom Neon Light Signs   Home Decor Wall Art",
         888
        ],
        [
         "Aruba",
         "The Work at Home Woman",
         880
        ],
        [
         "Andorra",
         "Glaminati",
         799
        ],
        [
         "Anguilla",
         "Kristen   Lifestyle  Mom Tips   Teacher Stuff Blog",
         736
        ],
        [
         "Austria",
         "The World Pursuit Travel Website",
         712
        ],
        [
         "Mozambique",
         "Stylin by Aylin",
         664
        ],
        [
         "French Guiana",
         "Commitment Connection",
         612
        ],
        [
         "Maldives",
         "Thrive Causemetics",
         516
        ],
        [
         "Papua New Guinea",
         "AnnaLee Kick",
         448
        ],
        [
         "New Caledonia",
         "Au vey Smith",
         377
        ],
        [
         "Gibraltar",
         "TheSuperBOO ",
         356
        ],
        [
         "Anguilla",
         "Thank Your Body",
         340
        ],
        [
         "Maldives",
         "Passion For Savings",
         330
        ],
        [
         "Algeria",
         "ELLE Germany",
         326
        ],
        [
         "Grenada",
         "p hump",
         314
        ],
        [
         "Albania",
         "Projects with Kids",
         240
        ],
        [
         "Barbados",
         "Nicki ",
         224
        ],
        [
         "Congo",
         "Shawn Petite",
         216
        ],
        [
         "Aruba",
         "Mala Rock   Rock T shirts",
         216
        ],
        [
         "Bulgaria",
         "Living Low Key   Save Money  Make Money    Frugal Living",
         208
        ],
        [
         "Cote d'Ivoire",
         "Math Giraffe",
         200
        ],
        [
         "Bermuda",
         "Life on Summerhill   Home  Holiday Decor   DIY Website",
         184
        ],
        [
         "Cape Verde",
         "Sand and Sisal",
         178
        ],
        [
         "American Samoa",
         "TheFab20s   Travel Food DIY Listicles",
         168
        ],
        [
         "Seychelles",
         "ALL FOR WOMAN",
         168
        ],
        [
         "Albania",
         "MojisStyle",
         117
        ],
        [
         "Australia",
         "LLEGANCE   Workwear Fashion Woman Advice For Driven Professionals",
         112
        ],
        [
         "Madagascar",
         "MomAdvice",
         112
        ],
        [
         "Armenia",
         "The Arty Teacher",
         100
        ],
        [
         "Mauritania",
         "The Literacy Nest",
         88
        ],
        [
         "Austria",
         "Wanderlust Chloe    Travel guides  inspo and adventure travel   ",
         80
        ],
        [
         "Egypt",
         "South Lumina Style",
         72
        ],
        [
         "Jamaica",
         "hobbyDB",
         64
        ],
        [
         "India",
         "Travel Mad Mum",
         56
        ],
        [
         "Isle of Man",
         "Abbotts At Home",
         52
        ],
        [
         "Cambodia",
         "Mixed Media Crafts",
         48
        ],
        [
         "Bahrain",
         "R J  Weiss at The Ways To Wealth   Personal Finance   Debt Payoff",
         46
        ],
        [
         "Algeria",
         "Boss Babe Chronicles   Personal Development  Finances  Self Care",
         45
        ],
        [
         "Australia",
         "Write Your Story   Budgeting  Healthy Lifestyle  Faith",
         40
        ],
        [
         "Germany",
         "QC Career School",
         40
        ],
        [
         "Botswana",
         "RapidLeaks",
         32
        ],
        [
         "Armenia",
         "Jiew82633",
         32
        ],
        [
         "Netherlands Antilles",
         "Kim Cook Thirteen Chairs Slates Mugs And Tees",
         28
        ],
        [
         "Afghanistan",
         "It s me  JD   DIY  Crafts  Home   Organization",
         27
        ],
        [
         "Dominican Republic",
         "Petite in Paris",
         24
        ],
        [
         "Australia",
         "Jess Wandering",
         22
        ],
        [
         "Montserrat",
         "Taming Little Monsters   Fun Activities for Kids",
         16
        ],
        [
         "Aruba",
         "Traci Bender   The Bender Bunch",
         11
        ],
        [
         "Christmas Island",
         "OUR NEXT ADVENTURE   family travel blog",
         9
        ],
        [
         "Turkey",
         "My Little Poppies  Cait Curley  MA CAGS ",
         9
        ],
        [
         "Argentina",
         "Tony",
         3
        ],
        [
         "Bhutan",
         "Kids Crafts   Free Preschool Printables  Sharing Our Experiences",
         3
        ],
        [
         "Guinea-Bissau",
         "Livitrevisani",
         0
        ],
        [
         "Colombia",
         "Consuelo Aguirre",
         0
        ],
        [
         "Tonga",
         "Grecia Perales",
         0
        ]
       ],
       "datasetInfos": [],
       "dbfsResultPath": null,
       "isJsonSchema": true,
       "metadata": {},
       "overflow": false,
       "plotOptions": {
        "customPlotOptions": {},
        "displayType": "table",
        "pivotAggregation": null,
        "pivotColumns": null,
        "xColumns": null,
        "yColumns": null
       },
       "removedWidgets": [],
       "schema": [
        {
         "metadata": "{}",
         "name": "country",
         "type": "\"string\""
        },
        {
         "metadata": "{}",
         "name": "poster_name",
         "type": "\"string\""
        },
        {
         "metadata": "{}",
         "name": "Follower_count",
         "type": "\"long\""
        }
       ],
       "type": "table"
      }
     },
     "output_type": "display_data"
    }
   ],
   "source": [
    "%sql\n",
    "-- For each country find the user with the most followers.\n",
    "SELECT \n",
    "  country,\n",
    "  poster_name,\n",
    "  SUM(follower_count) AS Follower_count\n",
    "FROM\n",
    "  full_data_set\n",
    "GROUP BY\n",
    "  country, poster_name\n",
    "ORDER BY \n",
    "  Follower_count DESC;\n"
   ]
  },
  {
   "cell_type": "code",
   "execution_count": 0,
   "metadata": {
    "application/vnd.databricks.v1+cell": {
     "cellMetadata": {
      "byteLimit": 2048000,
      "implicitDf": true,
      "rowLimit": 10000
     },
     "inputWidgets": {},
     "nuid": "f52f4d71-2da3-4a8b-a866-82f870dc7965",
     "showTitle": false,
     "title": ""
    }
   },
   "outputs": [
    {
     "output_type": "display_data",
     "data": {
      "text/html": [
       "<style scoped>\n",
       "  .table-result-container {\n",
       "    max-height: 300px;\n",
       "    overflow: auto;\n",
       "  }\n",
       "  table, th, td {\n",
       "    border: 1px solid black;\n",
       "    border-collapse: collapse;\n",
       "  }\n",
       "  th, td {\n",
       "    padding: 5px;\n",
       "  }\n",
       "  th {\n",
       "    text-align: left;\n",
       "  }\n",
       "</style><div class='table-result-container'><table class='table-result'><thead style='background-color: white'><tr><th>country</th><th>follower_count</th></tr></thead><tbody><tr><td>Sudan</td><td>7520</td></tr></tbody></table></div>"
      ]
     },
     "metadata": {
      "application/vnd.databricks.v1+output": {
       "addedWidgets": {},
       "aggData": [],
       "aggError": "",
       "aggOverflow": false,
       "aggSchema": [],
       "aggSeriesLimitReached": false,
       "aggType": "",
       "arguments": {},
       "columnCustomDisplayInfos": {},
       "data": [
        [
         "Sudan",
         7520
        ]
       ],
       "datasetInfos": [],
       "dbfsResultPath": null,
       "isJsonSchema": true,
       "metadata": {},
       "overflow": false,
       "plotOptions": {
        "customPlotOptions": {},
        "displayType": "table",
        "pivotAggregation": null,
        "pivotColumns": null,
        "xColumns": null,
        "yColumns": null
       },
       "removedWidgets": [],
       "schema": [
        {
         "metadata": "{}",
         "name": "country",
         "type": "\"string\""
        },
        {
         "metadata": "{}",
         "name": "follower_count",
         "type": "\"long\""
        }
       ],
       "type": "table"
      }
     },
     "output_type": "display_data"
    }
   ],
   "source": [
    "%sql\n",
    "--Based on the above query, find the country with the user with most followers.\n",
    "SELECT\n",
    "  country,\n",
    "  MAX(Follower_count) AS follower_count\n",
    "FROM (SELECT \n",
    "        country,\n",
    "        poster_name,\n",
    "        SUM(follower_count) AS Follower_count\n",
    "      FROM\n",
    "        full_data_set\n",
    "      GROUP BY\n",
    "        country, poster_name\n",
    "      ORDER BY \n",
    "        Follower_count DESC\n",
    "      )\n",
    "GROUP BY country\n",
    "ORDER BY follower_count DESC\n",
    "LIMIT 1;"
   ]
  },
  {
   "cell_type": "code",
   "execution_count": 0,
   "metadata": {
    "application/vnd.databricks.v1+cell": {
     "cellMetadata": {
      "byteLimit": 2048000,
      "implicitDf": true,
      "rowLimit": 10000
     },
     "inputWidgets": {},
     "nuid": "64c2a6e6-89a6-4c79-8db4-4330046ec013",
     "showTitle": false,
     "title": ""
    }
   },
   "outputs": [
    {
     "output_type": "display_data",
     "data": {
      "text/html": [
       "<style scoped>\n",
       "  .table-result-container {\n",
       "    max-height: 300px;\n",
       "    overflow: auto;\n",
       "  }\n",
       "  table, th, td {\n",
       "    border: 1px solid black;\n",
       "    border-collapse: collapse;\n",
       "  }\n",
       "  th, td {\n",
       "    padding: 5px;\n",
       "  }\n",
       "  th {\n",
       "    text-align: left;\n",
       "  }\n",
       "</style><div class='table-result-container'><table class='table-result'><thead style='background-color: white'><tr><th>age_group</th><th>category</th><th>category_count</th></tr></thead><tbody><tr><td>18-24</td><td>tattoos</td><td>36</td></tr><tr><td>18-24</td><td>travel</td><td>32</td></tr><tr><td>18-24</td><td>christmas</td><td>32</td></tr><tr><td>25-35</td><td>diy-and-crafts</td><td>28</td></tr><tr><td>25-35</td><td>travel</td><td>21</td></tr><tr><td>36-50</td><td>finance</td><td>20</td></tr><tr><td>18-24</td><td>mens-fashion</td><td>20</td></tr><tr><td>36-50</td><td>diy-and-crafts</td><td>17</td></tr><tr><td>25-35</td><td>vehicles</td><td>16</td></tr><tr><td>18-24</td><td>diy-and-crafts</td><td>16</td></tr><tr><td>18-24</td><td>event-planning</td><td>16</td></tr><tr><td>25-35</td><td>art</td><td>14</td></tr><tr><td>25-35</td><td>beauty</td><td>13</td></tr><tr><td>18-24</td><td>art</td><td>13</td></tr><tr><td>25-35</td><td>quotes</td><td>12</td></tr><tr><td>50+</td><td>beauty</td><td>9</td></tr><tr><td>25-35</td><td>finance</td><td>9</td></tr><tr><td>50+</td><td>education</td><td>9</td></tr><tr><td>18-24</td><td>quotes</td><td>9</td></tr><tr><td>25-35</td><td>home-decor</td><td>9</td></tr><tr><td>50+</td><td>event-planning</td><td>8</td></tr><tr><td>36-50</td><td>education</td><td>8</td></tr><tr><td>18-24</td><td>vehicles</td><td>8</td></tr><tr><td>18-24</td><td>home-decor</td><td>8</td></tr><tr><td>18-24</td><td>beauty</td><td>5</td></tr><tr><td>36-50</td><td>vehicles</td><td>5</td></tr><tr><td>18-24</td><td>finance</td><td>5</td></tr><tr><td>18-24</td><td>education</td><td>5</td></tr><tr><td>36-50</td><td>art</td><td>4</td></tr><tr><td>36-50</td><td>beauty</td><td>4</td></tr><tr><td>25-35</td><td>christmas</td><td>4</td></tr><tr><td>36-50</td><td>quotes</td><td>4</td></tr><tr><td>36-50</td><td>home-decor</td><td>1</td></tr><tr><td>25-35</td><td>event-planning</td><td>1</td></tr><tr><td>25-35</td><td>mens-fashion</td><td>1</td></tr><tr><td>36-50</td><td>tattoos</td><td>1</td></tr><tr><td>36-50</td><td>travel</td><td>1</td></tr></tbody></table></div>"
      ]
     },
     "metadata": {
      "application/vnd.databricks.v1+output": {
       "addedWidgets": {},
       "aggData": [],
       "aggError": "",
       "aggOverflow": false,
       "aggSchema": [],
       "aggSeriesLimitReached": false,
       "aggType": "",
       "arguments": {},
       "columnCustomDisplayInfos": {},
       "data": [
        [
         "18-24",
         "tattoos",
         36
        ],
        [
         "18-24",
         "travel",
         32
        ],
        [
         "18-24",
         "christmas",
         32
        ],
        [
         "25-35",
         "diy-and-crafts",
         28
        ],
        [
         "25-35",
         "travel",
         21
        ],
        [
         "36-50",
         "finance",
         20
        ],
        [
         "18-24",
         "mens-fashion",
         20
        ],
        [
         "36-50",
         "diy-and-crafts",
         17
        ],
        [
         "25-35",
         "vehicles",
         16
        ],
        [
         "18-24",
         "diy-and-crafts",
         16
        ],
        [
         "18-24",
         "event-planning",
         16
        ],
        [
         "25-35",
         "art",
         14
        ],
        [
         "25-35",
         "beauty",
         13
        ],
        [
         "18-24",
         "art",
         13
        ],
        [
         "25-35",
         "quotes",
         12
        ],
        [
         "50+",
         "beauty",
         9
        ],
        [
         "25-35",
         "finance",
         9
        ],
        [
         "50+",
         "education",
         9
        ],
        [
         "18-24",
         "quotes",
         9
        ],
        [
         "25-35",
         "home-decor",
         9
        ],
        [
         "50+",
         "event-planning",
         8
        ],
        [
         "36-50",
         "education",
         8
        ],
        [
         "18-24",
         "vehicles",
         8
        ],
        [
         "18-24",
         "home-decor",
         8
        ],
        [
         "18-24",
         "beauty",
         5
        ],
        [
         "36-50",
         "vehicles",
         5
        ],
        [
         "18-24",
         "finance",
         5
        ],
        [
         "18-24",
         "education",
         5
        ],
        [
         "36-50",
         "art",
         4
        ],
        [
         "36-50",
         "beauty",
         4
        ],
        [
         "25-35",
         "christmas",
         4
        ],
        [
         "36-50",
         "quotes",
         4
        ],
        [
         "36-50",
         "home-decor",
         1
        ],
        [
         "25-35",
         "event-planning",
         1
        ],
        [
         "25-35",
         "mens-fashion",
         1
        ],
        [
         "36-50",
         "tattoos",
         1
        ],
        [
         "36-50",
         "travel",
         1
        ]
       ],
       "datasetInfos": [],
       "dbfsResultPath": null,
       "isJsonSchema": true,
       "metadata": {},
       "overflow": false,
       "plotOptions": {
        "customPlotOptions": {},
        "displayType": "table",
        "pivotAggregation": null,
        "pivotColumns": null,
        "xColumns": null,
        "yColumns": null
       },
       "removedWidgets": [],
       "schema": [
        {
         "metadata": "{}",
         "name": "age_group",
         "type": "\"string\""
        },
        {
         "metadata": "{}",
         "name": "category",
         "type": "\"string\""
        },
        {
         "metadata": "{}",
         "name": "category_count",
         "type": "\"long\""
        }
       ],
       "type": "table"
      }
     },
     "output_type": "display_data"
    }
   ],
   "source": [
    "%sql\n",
    "--What is the most popular category people post to based on the following age groups\n",
    "SELECT\n",
    "  age_group,\n",
    "  category,\n",
    "  MAX(category_count) as category_count\n",
    "FROM (\n",
    "      SELECT \n",
    "      CASE\n",
    "        WHEN age BETWEEN 18 AND 24 THEN '18-24'\n",
    "        WHEN age BETWEEN 25 AND 35 THEN '25-35'\n",
    "        WHEN age BETWEEN 36 AND 50 THEN '36-50'\n",
    "        ELSE '50+'\n",
    "      END AS age_group,\n",
    "      category,\n",
    "      COUNT(category) AS category_count\n",
    "    FROM \n",
    "      full_data_set\n",
    "    GROUP BY age_group, category\n",
    "    )\n",
    "GROUP BY age_group, category\n",
    "ORDER BY category_count DESC;\n"
   ]
  },
  {
   "cell_type": "code",
   "execution_count": 0,
   "metadata": {
    "application/vnd.databricks.v1+cell": {
     "cellMetadata": {
      "byteLimit": 2048000,
      "implicitDf": true,
      "rowLimit": 10000
     },
     "inputWidgets": {},
     "nuid": "9666c827-9038-4ed8-81d3-c38aeaa98b8d",
     "showTitle": false,
     "title": ""
    }
   },
   "outputs": [
    {
     "output_type": "display_data",
     "data": {
      "text/html": [
       "<style scoped>\n",
       "  .table-result-container {\n",
       "    max-height: 300px;\n",
       "    overflow: auto;\n",
       "  }\n",
       "  table, th, td {\n",
       "    border: 1px solid black;\n",
       "    border-collapse: collapse;\n",
       "  }\n",
       "  th, td {\n",
       "    padding: 5px;\n",
       "  }\n",
       "  th {\n",
       "    text-align: left;\n",
       "  }\n",
       "</style><div class='table-result-container'><table class='table-result'><thead style='background-color: white'><tr><th>age_group</th><th>median_follower_count</th></tr></thead><tbody><tr><td>18-24</td><td>110</td></tr><tr><td>25-35</td><td>51</td></tr><tr><td>36-50</td><td>7</td></tr><tr><td>+50</td><td>5</td></tr></tbody></table></div>"
      ]
     },
     "metadata": {
      "application/vnd.databricks.v1+output": {
       "addedWidgets": {},
       "aggData": [],
       "aggError": "",
       "aggOverflow": false,
       "aggSchema": [],
       "aggSeriesLimitReached": false,
       "aggType": "",
       "arguments": {},
       "columnCustomDisplayInfos": {},
       "data": [
        [
         "18-24",
         110
        ],
        [
         "25-35",
         51
        ],
        [
         "36-50",
         7
        ],
        [
         "+50",
         5
        ]
       ],
       "datasetInfos": [],
       "dbfsResultPath": null,
       "isJsonSchema": true,
       "metadata": {},
       "overflow": false,
       "plotOptions": {
        "customPlotOptions": {},
        "displayType": "table",
        "pivotAggregation": null,
        "pivotColumns": null,
        "xColumns": null,
        "yColumns": null
       },
       "removedWidgets": [],
       "schema": [
        {
         "metadata": "{}",
         "name": "age_group",
         "type": "\"string\""
        },
        {
         "metadata": "{}",
         "name": "median_follower_count",
         "type": "\"integer\""
        }
       ],
       "type": "table"
      }
     },
     "output_type": "display_data"
    }
   ],
   "source": [
    "%sql\n",
    "-- What is the median follower count for users in the following age groups:\n",
    "\n",
    "SELECT \n",
    "  CASE \n",
    "    WHEN age BETWEEN 18 AND 24 THEN '18-24'\n",
    "    WHEN age BETWEEN 25 AND 35 THEN '25-35'\n",
    "    WHEN age BETWEEN 36 AND 50 THEN '36-50'\n",
    "    ELSE '+50'\n",
    "  END AS age_group,\n",
    "  percentile_approx(follower_count, 0.5) AS median_follower_count\n",
    "FROM full_data_set\n",
    "GROUP BY age_group\n",
    "ORDER BY median_follower_count DESC;\n",
    "\n"
   ]
  },
  {
   "cell_type": "code",
   "execution_count": 0,
   "metadata": {
    "application/vnd.databricks.v1+cell": {
     "cellMetadata": {
      "byteLimit": 2048000,
      "implicitDf": true,
      "rowLimit": 10000
     },
     "inputWidgets": {},
     "nuid": "85c8d7ea-fff1-466f-bb47-ddbb98bcc921",
     "showTitle": false,
     "title": ""
    }
   },
   "outputs": [
    {
     "output_type": "display_data",
     "data": {
      "text/html": [
       "<style scoped>\n",
       "  .table-result-container {\n",
       "    max-height: 300px;\n",
       "    overflow: auto;\n",
       "  }\n",
       "  table, th, td {\n",
       "    border: 1px solid black;\n",
       "    border-collapse: collapse;\n",
       "  }\n",
       "  th, td {\n",
       "    padding: 5px;\n",
       "  }\n",
       "  th {\n",
       "    text-align: left;\n",
       "  }\n",
       "</style><div class='table-result-container'><table class='table-result'><thead style='background-color: white'><tr><th>post_year</th><th>number_users_joined</th></tr></thead><tbody><tr><td>2019</td><td>146</td></tr><tr><td>2018</td><td>75</td></tr><tr><td>2020</td><td>63</td></tr><tr><td>2017</td><td>5</td></tr></tbody></table></div>"
      ]
     },
     "metadata": {
      "application/vnd.databricks.v1+output": {
       "addedWidgets": {},
       "aggData": [],
       "aggError": "",
       "aggOverflow": false,
       "aggSchema": [],
       "aggSeriesLimitReached": false,
       "aggType": "",
       "arguments": {},
       "columnCustomDisplayInfos": {},
       "data": [
        [
         2019,
         146
        ],
        [
         2018,
         75
        ],
        [
         2020,
         63
        ],
        [
         2017,
         5
        ]
       ],
       "datasetInfos": [],
       "dbfsResultPath": null,
       "isJsonSchema": true,
       "metadata": {},
       "overflow": false,
       "plotOptions": {
        "customPlotOptions": {},
        "displayType": "table",
        "pivotAggregation": null,
        "pivotColumns": null,
        "xColumns": null,
        "yColumns": null
       },
       "removedWidgets": [],
       "schema": [
        {
         "metadata": "{}",
         "name": "post_year",
         "type": "\"integer\""
        },
        {
         "metadata": "{}",
         "name": "number_users_joined",
         "type": "\"long\""
        }
       ],
       "type": "table"
      }
     },
     "output_type": "display_data"
    }
   ],
   "source": [
    "%sql\n",
    "-- Find how many users have joined between 2015 and 2020.\n",
    "\n",
    "SELECT  \n",
    "  YEAR(geo_timestamp) AS post_year,\n",
    "  COUNT(user_name) AS number_users_joined\n",
    "FROM full_data_set\n",
    "WHERE YEAR(geo_timestamp) BETWEEN 2015 AND 2020\n",
    "GROUP BY\n",
    "  YEAR(geo_timestamp)\n",
    "ORDER BY\n",
    "  number_users_joined DESC;\n"
   ]
  },
  {
   "cell_type": "code",
   "execution_count": 0,
   "metadata": {
    "application/vnd.databricks.v1+cell": {
     "cellMetadata": {
      "byteLimit": 2048000,
      "implicitDf": true,
      "rowLimit": 10000
     },
     "inputWidgets": {},
     "nuid": "6b979c8c-43ca-47eb-8452-7e2a677cc4e7",
     "showTitle": false,
     "title": ""
    }
   },
   "outputs": [
    {
     "output_type": "display_data",
     "data": {
      "text/html": [
       "<style scoped>\n",
       "  .table-result-container {\n",
       "    max-height: 300px;\n",
       "    overflow: auto;\n",
       "  }\n",
       "  table, th, td {\n",
       "    border: 1px solid black;\n",
       "    border-collapse: collapse;\n",
       "  }\n",
       "  th, td {\n",
       "    padding: 5px;\n",
       "  }\n",
       "  th {\n",
       "    text-align: left;\n",
       "  }\n",
       "</style><div class='table-result-container'><table class='table-result'><thead style='background-color: white'><tr><th>post_year</th><th>median_follower_count</th></tr></thead><tbody><tr><td>2020</td><td>124</td></tr><tr><td>2019</td><td>83</td></tr><tr><td>2018</td><td>43</td></tr><tr><td>2017</td><td>42</td></tr></tbody></table></div>"
      ]
     },
     "metadata": {
      "application/vnd.databricks.v1+output": {
       "addedWidgets": {},
       "aggData": [],
       "aggError": "",
       "aggOverflow": false,
       "aggSchema": [],
       "aggSeriesLimitReached": false,
       "aggType": "",
       "arguments": {},
       "columnCustomDisplayInfos": {},
       "data": [
        [
         2020,
         124
        ],
        [
         2019,
         83
        ],
        [
         2018,
         43
        ],
        [
         2017,
         42
        ]
       ],
       "datasetInfos": [],
       "dbfsResultPath": null,
       "isJsonSchema": true,
       "metadata": {},
       "overflow": false,
       "plotOptions": {
        "customPlotOptions": {},
        "displayType": "table",
        "pivotAggregation": null,
        "pivotColumns": null,
        "xColumns": null,
        "yColumns": null
       },
       "removedWidgets": [],
       "schema": [
        {
         "metadata": "{}",
         "name": "post_year",
         "type": "\"integer\""
        },
        {
         "metadata": "{}",
         "name": "median_follower_count",
         "type": "\"integer\""
        }
       ],
       "type": "table"
      }
     },
     "output_type": "display_data"
    }
   ],
   "source": [
    "%sql\n",
    "-- Find the median follower count of users that joined between 2015 and 2020.\n",
    "\n",
    "SELECT\n",
    "    YEAR(geo_timestamp) AS post_year,\n",
    "    percentile_approx(follower_count, 0.5) AS median_follower_count\n",
    "FROM full_data_set\n",
    "WHERE YEAR(geo_timestamp) BETWEEN 2015 AND 2020\n",
    "GROUP BY\n",
    "  YEAR(geo_timestamp)\n",
    "ORDER BY\n",
    "  median_follower_count DESC;\n",
    "\n"
   ]
  },
  {
   "cell_type": "code",
   "execution_count": 0,
   "metadata": {
    "application/vnd.databricks.v1+cell": {
     "cellMetadata": {
      "byteLimit": 2048000,
      "implicitDf": true,
      "rowLimit": 10000
     },
     "inputWidgets": {},
     "nuid": "aefb1a03-f9b5-4d24-a4c5-381907178b40",
     "showTitle": false,
     "title": ""
    }
   },
   "outputs": [
    {
     "output_type": "display_data",
     "data": {
      "text/html": [
       "<style scoped>\n",
       "  .table-result-container {\n",
       "    max-height: 300px;\n",
       "    overflow: auto;\n",
       "  }\n",
       "  table, th, td {\n",
       "    border: 1px solid black;\n",
       "    border-collapse: collapse;\n",
       "  }\n",
       "  th, td {\n",
       "    padding: 5px;\n",
       "  }\n",
       "  th {\n",
       "    text-align: left;\n",
       "  }\n",
       "</style><div class='table-result-container'><table class='table-result'><thead style='background-color: white'><tr><th>age_group</th><th>post_year</th><th>median_follower_count</th></tr></thead><tbody><tr><td>+50</td><td>2017</td><td>326</td></tr><tr><td>18-24</td><td>2020</td><td>211</td></tr><tr><td>25-35</td><td>2020</td><td>124</td></tr><tr><td>36-50</td><td>2020</td><td>117</td></tr><tr><td>36-50</td><td>2018</td><td>112</td></tr><tr><td>18-24</td><td>2019</td><td>110</td></tr><tr><td>18-24</td><td>2018</td><td>89</td></tr><tr><td>25-35</td><td>2019</td><td>83</td></tr><tr><td>25-35</td><td>2017</td><td>42</td></tr><tr><td>36-50</td><td>2019</td><td>25</td></tr><tr><td>+50</td><td>2018</td><td>9</td></tr><tr><td>25-35</td><td>2018</td><td>8</td></tr><tr><td>+50</td><td>2019</td><td>5</td></tr></tbody></table></div>"
      ]
     },
     "metadata": {
      "application/vnd.databricks.v1+output": {
       "addedWidgets": {},
       "aggData": [],
       "aggError": "",
       "aggOverflow": false,
       "aggSchema": [],
       "aggSeriesLimitReached": false,
       "aggType": "",
       "arguments": {},
       "columnCustomDisplayInfos": {},
       "data": [
        [
         "+50",
         2017,
         326
        ],
        [
         "18-24",
         2020,
         211
        ],
        [
         "25-35",
         2020,
         124
        ],
        [
         "36-50",
         2020,
         117
        ],
        [
         "36-50",
         2018,
         112
        ],
        [
         "18-24",
         2019,
         110
        ],
        [
         "18-24",
         2018,
         89
        ],
        [
         "25-35",
         2019,
         83
        ],
        [
         "25-35",
         2017,
         42
        ],
        [
         "36-50",
         2019,
         25
        ],
        [
         "+50",
         2018,
         9
        ],
        [
         "25-35",
         2018,
         8
        ],
        [
         "+50",
         2019,
         5
        ]
       ],
       "datasetInfos": [],
       "dbfsResultPath": null,
       "isJsonSchema": true,
       "metadata": {},
       "overflow": false,
       "plotOptions": {
        "customPlotOptions": {},
        "displayType": "table",
        "pivotAggregation": null,
        "pivotColumns": null,
        "xColumns": null,
        "yColumns": null
       },
       "removedWidgets": [],
       "schema": [
        {
         "metadata": "{}",
         "name": "age_group",
         "type": "\"string\""
        },
        {
         "metadata": "{}",
         "name": "post_year",
         "type": "\"integer\""
        },
        {
         "metadata": "{}",
         "name": "median_follower_count",
         "type": "\"integer\""
        }
       ],
       "type": "table"
      }
     },
     "output_type": "display_data"
    }
   ],
   "source": [
    "%sql\n",
    "--Find the median follower count of users that have joined between 2015 and 2020, based on which age group they are part of.\n",
    "\n",
    "SELECT \n",
    "  CASE \n",
    "    WHEN age BETWEEN 18 AND 24 THEN '18-24'\n",
    "    WHEN age BETWEEN 25 AND 35 THEN '25-35'\n",
    "    WHEN age BETWEEN 36 AND 50 THEN '36-50'\n",
    "    ELSE '+50'\n",
    "  END AS age_group,\n",
    "  YEAR(geo_timestamp) AS post_year,\n",
    "  percentile_approx(follower_count, 0.5) AS median_follower_count\n",
    "FROM full_data_set\n",
    "WHERE YEAR(geo_timestamp) BETWEEN 2015 AND 2020\n",
    "GROUP BY CASE \n",
    "    WHEN age BETWEEN 18 AND 24 THEN '18-24'\n",
    "    WHEN age BETWEEN 25 AND 35 THEN '25-35'\n",
    "    WHEN age BETWEEN 36 AND 50 THEN '36-50'\n",
    "    ELSE '+50'\n",
    "  END,\n",
    "  YEAR(geo_timestamp)  \n",
    "ORDER BY median_follower_count DESC;\n",
    "\n"
   ]
  }
 ],
 "metadata": {
  "application/vnd.databricks.v1+notebook": {
   "dashboards": [],
   "language": "python",
   "notebookMetadata": {
    "mostRecentlyExecutedCommandWithImplicitDF": {
     "commandId": 4162440541817944,
     "dataframes": [
      "_sqldf"
     ]
    },
    "pythonIndentUnit": 4
   },
   "notebookName": "data_analysis",
   "widgets": {}
  }
 },
 "nbformat": 4,
 "nbformat_minor": 0
}
